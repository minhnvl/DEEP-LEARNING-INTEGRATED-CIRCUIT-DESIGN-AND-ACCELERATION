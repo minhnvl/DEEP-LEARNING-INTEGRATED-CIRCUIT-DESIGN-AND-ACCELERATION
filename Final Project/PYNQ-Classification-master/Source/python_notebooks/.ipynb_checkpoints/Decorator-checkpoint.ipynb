{
 "cells": [
  {
   "cell_type": "markdown",
   "metadata": {},
   "source": [
    "# Function Decorators for Accelerated Code\n",
    "\n",
    "The idea is to provide a simple API for end users to interact with custom IP in the fabric, and provide a simple mechanism for overlay writers to expose that functionality to end users. The idea would be to have a decorator that marks a function as being potentially offloaded `@hardware_function(vlnv)` that handles all of the communication. The return type and argument type are then expressed using python type annotations. If the VLNV appears in the loaded bitstream then a wrapper will be returned that, upon accessing the data, will act like a numpy array of the specified type. If the VLNV is not in the block design, the function will be executed as per normal."
   ]
  },
  {
   "cell_type": "markdown",
   "metadata": {},
   "source": [
    "## Representation of call chains\n",
    "The first task is to provide wrappers for the call chains which are being offloaded. This is taken wholesale from the test notebook. At the moment, it is assumed that all functions take one or more streams and input and return a single stream."
   ]
  },
  {
   "cell_type": "code",
   "execution_count": 31,
   "metadata": {
    "collapsed": true
   },
   "outputs": [],
   "source": [
    "import numpy as np\n",
    "\n",
    "class Wrapper:\n",
    "    def __init__(self, wrapped, dtype = np.int32):\n",
    "        self.wrapped = wrapped\n",
    "        self.dtype = dtype\n",
    "    def value(self):\n",
    "        return self.wrapped\n",
    "\n",
    "class Call:\n",
    "    def __init__(self, func, stream_args, scalar_args, return_type = np.uint32):\n",
    "        self.func = func\n",
    "        self.args = stream_args\n",
    "        self.scalar_args = scalar_args\n",
    "        self.dtype = return_type\n",
    "        self.cached = None\n",
    "\n",
    "    def value(self):\n",
    "        return self.func(*[a.value() for a in self.args])\n",
    "    \n",
    "    def hw_value(self):\n",
    "        return execute_hardware(self)\n",
    "    \n",
    "    def __str__(self):\n",
    "        if self.cached is None:\n",
    "            self.cached = self.hw_value()\n",
    "        return str(self.cached)\n",
    "    \n",
    "    def __getitem__(self, index):\n",
    "        if self.cached is None:\n",
    "            self.cached = self.hw_value()\n",
    "        return self.cached[index]\n",
    "    \n",
    "    def __len__(self):\n",
    "        if self.cached is None:\n",
    "            self.cached = self.hw_value()\n",
    "        return len(self.cached)"
   ]
  },
  {
   "cell_type": "markdown",
   "metadata": {},
   "source": [
    "## Determining whats in the bitstream\n",
    "In order to correctly wire up the switches in the bitstream, we need to extract from the TCL file what IP is in the diagram and how it is wired. This is future work so, for now, it is hard-coded to the example bitstream but this will be changed post proof-of-concept."
   ]
  },
  {
   "cell_type": "code",
   "execution_count": 32,
   "metadata": {
    "collapsed": false
   },
   "outputs": [],
   "source": [
    "from collections import namedtuple\n",
    "\n",
    "Function = namedtuple('Function', 'in_ports out_ports name')\n",
    "\n",
    "class FunctionMetadata:\n",
    "    def __init__(self):\n",
    "        self.DMA = [([0],[0]),([5],[4])]\n",
    "        self.DMA_names = ['axi_dma_0', 'axi_dma_1']\n",
    "        self.functions = {}\n",
    "        self.functions['Xilinx:hls:stream_double:1.0'] = Function(in_ports=[2],out_ports=[2],name=None)\n",
    "        #self.functions['Xilinx:hls:stream_mult:1.0'] = Function(in_ports=[3,4],out_ports=[3],name=None)\n",
    "        self.functions['xilinx.com:hls:wrapped_conv_im2col_hw:1.0'] = Function(in_ports=[3,4],out_ports=[3],name=None)\n",
    "        self.functions['Xilinx:hls:simple_sum:1.0'] = Function(in_ports=[1],out_ports=[1],name=None)\n",
    "        self.functions['Xilinx:hls:mult_constant:1.0'] = Function(in_ports=[6],out_ports=[5],name='mult_constant_0')\n",
    "        \n",
    "metadata = FunctionMetadata()"
   ]
  },
  {
   "cell_type": "markdown",
   "metadata": {},
   "source": [
    "## Controlling the switch\n",
    "The next helper class controls the switch by setting routes. It is a thin wrapper around the control interface of the Xilinx AXI Stream Switch."
   ]
  },
  {
   "cell_type": "code",
   "execution_count": 33,
   "metadata": {
    "collapsed": false
   },
   "outputs": [],
   "source": [
    "from pynq import PL\n",
    "from pynq import MMIO\n",
    "\n",
    "class StreamingSwitch:\n",
    "    def __init__(self, name):\n",
    "        base_addr = int(PL.ip_dict[\"SEG_{0}_Reg\".format(name)][0],16)\n",
    "        self.mmio = MMIO(base_addr, 256)\n",
    "        self.reset()\n",
    "        \n",
    "    def set_route(self, in_port, out_port):\n",
    "        print('SWITCH: setting route {0} to {1}'.format(in_port, out_port))\n",
    "        self.mmio.write(0x40 + out_port * 4, in_port)\n",
    "        \n",
    "    def reset(self):\n",
    "        for i in range(16):\n",
    "            # Disable the output on every port\n",
    "            self.mmio.write(0x40 + i * 4, 0x80000000)\n",
    "    \n",
    "    def commit(self):\n",
    "        # Causes the switch to update atomically to the new routing\n",
    "        self.mmio.write(0, 2)\n",
    "        "
   ]
  },
  {
   "cell_type": "markdown",
   "metadata": {},
   "source": [
    "## The Decorator\n",
    "Take a function and wrap it in a call object"
   ]
  },
  {
   "cell_type": "code",
   "execution_count": 34,
   "metadata": {
    "collapsed": true
   },
   "outputs": [],
   "source": [
    "import inspect\n",
    "\n",
    "def wrap_arg(a, dtype=np.int32):\n",
    "    if type(a) is Call or type(a) is Wrapper:\n",
    "        return a\n",
    "    else:\n",
    "        # TODO: sort out element type\n",
    "        return Wrapper(a, dtype);\n",
    "\n",
    "def hardware_function(vlnv):\n",
    "    def decorator(func):\n",
    "        sig = inspect.signature(func)\n",
    "        ret_type = sig.return_annotation[0]\n",
    "        def wrapped_function(*args, **kwargs):\n",
    "            ba = sig.bind(*args, **kwargs)\n",
    "            if vlnv in metadata.functions:\n",
    "                stream_args = []\n",
    "                scalar_args = []\n",
    "                for param in sig.parameters.values():\n",
    "                    if type(param.annotation) is list:\n",
    "                        stream_args.append(wrap_arg(ba.arguments[param.name], param.annotation[0]))\n",
    "                    else:\n",
    "                        scalar_args.append(ba.arguments[param.name])\n",
    "                return Call(vlnv, stream_args, scalar_args, return_type=ret_type)\n",
    "            else:\n",
    "                # We don't have the function available so we might\n",
    "                # as well just call the function and return\n",
    "                return func(*args, **kwargs)\n",
    "        return wrapped_function\n",
    "    return decorator"
   ]
  },
  {
   "cell_type": "markdown",
   "metadata": {},
   "source": [
    "## Configuring the Switch and DMA\n",
    "The final step is to take a Call object and configure the switch accordingly. This process should also prime the DMA with the correct to be sent. We need a mechanism to set the correct size of the receiving buffer, thoughts welcome."
   ]
  },
  {
   "cell_type": "code",
   "execution_count": 35,
   "metadata": {
    "collapsed": false
   },
   "outputs": [],
   "source": [
    "# Horrible hack to load the DMA driver\n",
    "from pynq import Overlay\n",
    "Overlay('base.bit').download()\n",
    "from pynq.drivers import DMA\n",
    "import pynq.drivers.dma\n",
    "#Overlay('/home/xilinx/decorator_test.bit').download()\n",
    "Overlay('/home/xilinx/decorator_conv_im2col.bit').download()"
   ]
  },
  {
   "cell_type": "markdown",
   "metadata": {},
   "source": [
    "## Wrap the DMA\n",
    "Provide a simple API to the DMA. The DMA engine out to be separated out into a separate buffer as proposed separately then the DMA engine instances can be static and buffers could be returned without being copied."
   ]
  },
  {
   "cell_type": "code",
   "execution_count": 36,
   "metadata": {
    "collapsed": false
   },
   "outputs": [],
   "source": [
    "class DMAWrapper:\n",
    "    def __init__(self,index):\n",
    "        print('Send DMA: create index {0} name {1}'.format(index, metadata.DMA_names[index]))\n",
    "        base_addr = int(PL.ip_dict[\"SEG_{0}_Reg\".format(metadata.DMA_names[index])][0],16)\n",
    "        print('Send DMA: base_address {0:x}'.format(base_addr))\n",
    "        self.dma = DMA(base_addr, 0)\n",
    "        self.ports = metadata.DMA[index]\n",
    "        \n",
    "    def set_data(self, data, dtype):\n",
    "        self.length = len(data) * dtype.itemsize\n",
    "        print('Send DMA: sending {0} bytes'.format(self.length))\n",
    "        self.dma.create_buf(self.length)\n",
    "        ffi = pynq.drivers.dma.ffi\n",
    "        buf = ffi.buffer(self.dma.buf, self.length)\n",
    "        view = np.frombuffer(buf, dtype, -1)\n",
    "        np.copyto(view, data, casting='same_kind')\n",
    "\n",
    "    def transfer(self):\n",
    "        print('Send DMA: transfer started')\n",
    "        self.dma.transfer(self.length, 0)\n",
    "    \n",
    "    def wait(self):\n",
    "        self.dma.wait()\n",
    "        print('Send DMA: transfer finished')"
   ]
  },
  {
   "cell_type": "markdown",
   "metadata": {},
   "source": [
    "## Parse the execution plan\n",
    "Next a recursive function is used to walk the execution plan. At the moment, there is no protection against using a function multiple times in a plan. That will follow later."
   ]
  },
  {
   "cell_type": "code",
   "execution_count": 37,
   "metadata": {
    "collapsed": false
   },
   "outputs": [],
   "source": [
    "def prepare_execution(plan, dma, return_port):\n",
    "    if type(plan) is Wrapper:\n",
    "        d = DMAWrapper(len(dma))\n",
    "        d.set_data(plan.wrapped, plan.dtype())\n",
    "        dma.append(d)\n",
    "        hw_switch.set_route(d.ports[1][0], return_port)\n",
    "    elif type(plan) is Call:\n",
    "        in_ports = metadata.functions[plan.func].in_ports\n",
    "        out_ports = metadata.functions[plan.func].out_ports\n",
    "        name = metadata.functions[plan.func].name\n",
    "        mmio = None\n",
    "        if name:\n",
    "            mmio = MMIO(int(PL.ip_dict['SEG_{0}_Reg'.format(name)][0],16),256)\n",
    "        for i, a in enumerate(plan.args):\n",
    "            prepare_execution(a, dma, in_ports[i])\n",
    "        for i, a in enumerate(plan.scalar_args):\n",
    "            mmio.write(0x10 + 4*i, a)\n",
    "        hw_switch.set_route(out_ports[0], return_port)\n",
    "    else:\n",
    "        print(\"Unknown plan type: \" + repr(plan))"
   ]
  },
  {
   "cell_type": "markdown",
   "metadata": {},
   "source": [
    "## Execute the plan\n",
    "This is the main function that executes the plan. It first calls the parsing functions, then configures the input DMA engineswith suitable buffers and then waits for the return DMA to complete. Because the return buffer belongs to the DMA engine, a copy has to be taken. This can be changed with a modified DMA API"
   ]
  },
  {
   "cell_type": "code",
   "execution_count": 38,
   "metadata": {
    "collapsed": false
   },
   "outputs": [],
   "source": [
    "hw_switch = StreamingSwitch('axis_switch_0')\n",
    "\n",
    "def execute_hardware(plan):\n",
    "    dma = []\n",
    "    hw_switch.reset()\n",
    "    ret_dma_base = int(PL.ip_dict[\"SEG_{0}_Reg\".format(metadata.DMA_names[0])][0],16)\n",
    "    ret_dma_mmio = MMIO(ret_dma_base, 256)\n",
    "    ret_dma = DMA(ret_dma_base, 1)\n",
    "    # TODO: Metadata for how big the buffer should be?\n",
    "    ret_dma.create_buf(8388607)\n",
    "    prepare_execution(plan, dma, metadata.DMA[0][0][0])\n",
    "    hw_switch.commit()\n",
    "    for d in dma:\n",
    "        d.transfer()\n",
    "    for d in dma:\n",
    "        d.wait()\n",
    "    ret_dma.transfer(8388607, 1)\n",
    "    ret_dma.wait()\n",
    "    bytes_read = ret_dma_mmio.read(0x58)\n",
    "    ffi = pynq.drivers.dma.ffi\n",
    "    buf = ffi.buffer(ret_dma.buf, bytes_read)\n",
    "    view = np.frombuffer(buf, plan.dtype, -1).copy()\n",
    "    return view"
   ]
  },
  {
   "cell_type": "markdown",
   "metadata": {},
   "source": [
    "# Testing the Decorator\n",
    "Create some simple functions which map to the hardware functions and see if the decorator maps accordingly. We'll add some print statements to the python versions of the functions so we can make sure they're not called"
   ]
  },
  {
   "cell_type": "code",
   "execution_count": 39,
   "metadata": {
    "collapsed": false
   },
   "outputs": [],
   "source": [
    "@hardware_function('Xilinx:hls:simple_sum:1.0')\n",
    "def total(vs:[np.int32]) -> [np.int32]:\n",
    "    print(\"In total\")\n",
    "    return sum(vs)\n",
    "\n",
    "@hardware_function('Xilinx:hls:stream_double:1.0')\n",
    "def double(vs:[np.int32]) -> [np.int32]:\n",
    "    print(\"In double\")\n",
    "    return [v * 2 for v in vs]\n",
    "\n",
    "#@hardware_function('Xilinx:hls:stream_mult:1.0')\n",
    "@hardware_function('xilinx.com:hls:wrapped_conv_im2col_hw:1.0')\n",
    "def mult(a:[np.int32], b:[np.int32]) -> [np.int32]:\n",
    "    return [a1 * b1 for (a1,b1) in zip(a,b)]\n"
   ]
  },
  {
   "cell_type": "markdown",
   "metadata": {},
   "source": [
    "First we chain two hardware functions together. Note that no computation happens at this point as we don't know if the user wants this value or plans to use it as an intermediate value"
   ]
  },
  {
   "cell_type": "code",
   "execution_count": 42,
   "metadata": {
    "collapsed": false
   },
   "outputs": [
    {
     "name": "stdout",
     "output_type": "stream",
     "text": [
      "Send DMA: create index 0 name axi_dma_0\n",
      "Send DMA: base_address 40400000\n",
      "Send DMA: sending 264 bytes\n",
      "SWITCH: setting route 0 to 3\n",
      "Send DMA: create index 1 name axi_dma_1\n",
      "Send DMA: base_address 40410000\n",
      "Send DMA: sending 264 bytes\n",
      "SWITCH: setting route 4 to 4\n",
      "SWITCH: setting route 3 to 0\n",
      "Send DMA: transfer started\n",
      "Send DMA: transfer started\n",
      "Send DMA: transfer finished\n",
      "Send DMA: transfer finished\n"
     ]
    },
    {
     "ename": "TimeoutError",
     "evalue": "DMA wait timed out.",
     "output_type": "error",
     "traceback": [
      "\u001b[0;31m---------------------------------------------------------------------------\u001b[0m",
      "\u001b[0;31mTimeoutError\u001b[0m                              Traceback (most recent call last)",
      "\u001b[0;32m<ipython-input-42-73244ab26c1d>\u001b[0m in \u001b[0;36m<module>\u001b[0;34m()\u001b[0m\n\u001b[1;32m     47\u001b[0m     ]\n\u001b[1;32m     48\u001b[0m \u001b[0mt\u001b[0m \u001b[0;34m=\u001b[0m \u001b[0mmult\u001b[0m\u001b[0;34m(\u001b[0m\u001b[0mA\u001b[0m\u001b[0;34m,\u001b[0m \u001b[0mB\u001b[0m\u001b[0;34m)\u001b[0m\u001b[0;34m\u001b[0m\u001b[0m\n\u001b[0;32m---> 49\u001b[0;31m \u001b[0mprint\u001b[0m\u001b[0;34m(\u001b[0m\u001b[0mt\u001b[0m\u001b[0;34m)\u001b[0m\u001b[0;34m\u001b[0m\u001b[0m\n\u001b[0m",
      "\u001b[0;32m<ipython-input-31-bf7c1ff480c4>\u001b[0m in \u001b[0;36m__str__\u001b[0;34m(self)\u001b[0m\n\u001b[1;32m     24\u001b[0m     \u001b[0;32mdef\u001b[0m \u001b[0m__str__\u001b[0m\u001b[0;34m(\u001b[0m\u001b[0mself\u001b[0m\u001b[0;34m)\u001b[0m\u001b[0;34m:\u001b[0m\u001b[0;34m\u001b[0m\u001b[0m\n\u001b[1;32m     25\u001b[0m         \u001b[0;32mif\u001b[0m \u001b[0mself\u001b[0m\u001b[0;34m.\u001b[0m\u001b[0mcached\u001b[0m \u001b[0;32mis\u001b[0m \u001b[0;32mNone\u001b[0m\u001b[0;34m:\u001b[0m\u001b[0;34m\u001b[0m\u001b[0m\n\u001b[0;32m---> 26\u001b[0;31m             \u001b[0mself\u001b[0m\u001b[0;34m.\u001b[0m\u001b[0mcached\u001b[0m \u001b[0;34m=\u001b[0m \u001b[0mself\u001b[0m\u001b[0;34m.\u001b[0m\u001b[0mhw_value\u001b[0m\u001b[0;34m(\u001b[0m\u001b[0;34m)\u001b[0m\u001b[0;34m\u001b[0m\u001b[0m\n\u001b[0m\u001b[1;32m     27\u001b[0m         \u001b[0;32mreturn\u001b[0m \u001b[0mstr\u001b[0m\u001b[0;34m(\u001b[0m\u001b[0mself\u001b[0m\u001b[0;34m.\u001b[0m\u001b[0mcached\u001b[0m\u001b[0;34m)\u001b[0m\u001b[0;34m\u001b[0m\u001b[0m\n\u001b[1;32m     28\u001b[0m \u001b[0;34m\u001b[0m\u001b[0m\n",
      "\u001b[0;32m<ipython-input-31-bf7c1ff480c4>\u001b[0m in \u001b[0;36mhw_value\u001b[0;34m(self)\u001b[0m\n\u001b[1;32m     20\u001b[0m \u001b[0;34m\u001b[0m\u001b[0m\n\u001b[1;32m     21\u001b[0m     \u001b[0;32mdef\u001b[0m \u001b[0mhw_value\u001b[0m\u001b[0;34m(\u001b[0m\u001b[0mself\u001b[0m\u001b[0;34m)\u001b[0m\u001b[0;34m:\u001b[0m\u001b[0;34m\u001b[0m\u001b[0m\n\u001b[0;32m---> 22\u001b[0;31m         \u001b[0;32mreturn\u001b[0m \u001b[0mexecute_hardware\u001b[0m\u001b[0;34m(\u001b[0m\u001b[0mself\u001b[0m\u001b[0;34m)\u001b[0m\u001b[0;34m\u001b[0m\u001b[0m\n\u001b[0m\u001b[1;32m     23\u001b[0m \u001b[0;34m\u001b[0m\u001b[0m\n\u001b[1;32m     24\u001b[0m     \u001b[0;32mdef\u001b[0m \u001b[0m__str__\u001b[0m\u001b[0;34m(\u001b[0m\u001b[0mself\u001b[0m\u001b[0;34m)\u001b[0m\u001b[0;34m:\u001b[0m\u001b[0;34m\u001b[0m\u001b[0m\n",
      "\u001b[0;32m<ipython-input-38-5d3b4a4e7848>\u001b[0m in \u001b[0;36mexecute_hardware\u001b[0;34m(plan)\u001b[0m\n\u001b[1;32m     16\u001b[0m     \u001b[0;32mfor\u001b[0m \u001b[0md\u001b[0m \u001b[0;32min\u001b[0m \u001b[0mdma\u001b[0m\u001b[0;34m:\u001b[0m\u001b[0;34m\u001b[0m\u001b[0m\n\u001b[1;32m     17\u001b[0m         \u001b[0md\u001b[0m\u001b[0;34m.\u001b[0m\u001b[0mwait\u001b[0m\u001b[0;34m(\u001b[0m\u001b[0;34m)\u001b[0m\u001b[0;34m\u001b[0m\u001b[0m\n\u001b[0;32m---> 18\u001b[0;31m     \u001b[0mret_dma\u001b[0m\u001b[0;34m.\u001b[0m\u001b[0mwait\u001b[0m\u001b[0;34m(\u001b[0m\u001b[0;34m)\u001b[0m\u001b[0;34m\u001b[0m\u001b[0m\n\u001b[0m\u001b[1;32m     19\u001b[0m     \u001b[0mbytes_read\u001b[0m \u001b[0;34m=\u001b[0m \u001b[0mret_dma_mmio\u001b[0m\u001b[0;34m.\u001b[0m\u001b[0mread\u001b[0m\u001b[0;34m(\u001b[0m\u001b[0;36m0x58\u001b[0m\u001b[0;34m)\u001b[0m\u001b[0;34m\u001b[0m\u001b[0m\n\u001b[1;32m     20\u001b[0m     \u001b[0mffi\u001b[0m \u001b[0;34m=\u001b[0m \u001b[0mpynq\u001b[0m\u001b[0;34m.\u001b[0m\u001b[0mdrivers\u001b[0m\u001b[0;34m.\u001b[0m\u001b[0mdma\u001b[0m\u001b[0;34m.\u001b[0m\u001b[0mffi\u001b[0m\u001b[0;34m\u001b[0m\u001b[0m\n",
      "\u001b[0;32m/usr/local/lib/python3.4/dist-packages/pynq/drivers/dma.py\u001b[0m in \u001b[0;36mwait\u001b[0;34m(self, wait_timeout)\u001b[0m\n\u001b[1;32m    439\u001b[0m         \u001b[0;32mwith\u001b[0m \u001b[0mtimeout\u001b[0m\u001b[0;34m(\u001b[0m\u001b[0mseconds\u001b[0m \u001b[0;34m=\u001b[0m \u001b[0mwait_timeout\u001b[0m\u001b[0;34m,\u001b[0m \u001b[0merror_message\u001b[0m \u001b[0;34m=\u001b[0m \u001b[0mError\u001b[0m\u001b[0;34m)\u001b[0m\u001b[0;34m:\u001b[0m\u001b[0;34m\u001b[0m\u001b[0m\n\u001b[1;32m    440\u001b[0m             \u001b[0;32mwhile\u001b[0m \u001b[0;32mTrue\u001b[0m\u001b[0;34m:\u001b[0m\u001b[0;34m\u001b[0m\u001b[0m\n\u001b[0;32m--> 441\u001b[0;31m                 \u001b[0;32mif\u001b[0m \u001b[0mlibdma\u001b[0m\u001b[0;34m.\u001b[0m\u001b[0mXAxiDma_Busy\u001b[0m\u001b[0;34m(\u001b[0m\u001b[0mself\u001b[0m\u001b[0;34m.\u001b[0m\u001b[0mDMAengine\u001b[0m\u001b[0;34m,\u001b[0m\u001b[0mself\u001b[0m\u001b[0;34m.\u001b[0m\u001b[0mdirection\u001b[0m\u001b[0;34m)\u001b[0m \u001b[0;34m==\u001b[0m \u001b[0;36m0\u001b[0m\u001b[0;34m:\u001b[0m\u001b[0;34m\u001b[0m\u001b[0m\n\u001b[0m\u001b[1;32m    442\u001b[0m                     \u001b[0;32mbreak\u001b[0m\u001b[0;34m\u001b[0m\u001b[0m\n\u001b[1;32m    443\u001b[0m \u001b[0;34m\u001b[0m\u001b[0m\n",
      "\u001b[0;32m/usr/local/lib/python3.4/dist-packages/pynq/drivers/dma.py\u001b[0m in \u001b[0;36mhandle_timeout\u001b[0;34m(self, signum, frame)\u001b[0m\n\u001b[1;32m    173\u001b[0m \u001b[0;34m\u001b[0m\u001b[0m\n\u001b[1;32m    174\u001b[0m     \u001b[0;32mdef\u001b[0m \u001b[0mhandle_timeout\u001b[0m\u001b[0;34m(\u001b[0m\u001b[0mself\u001b[0m\u001b[0;34m,\u001b[0m \u001b[0msignum\u001b[0m\u001b[0;34m,\u001b[0m \u001b[0mframe\u001b[0m\u001b[0;34m)\u001b[0m\u001b[0;34m:\u001b[0m\u001b[0;34m\u001b[0m\u001b[0m\n\u001b[0;32m--> 175\u001b[0;31m         \u001b[0;32mraise\u001b[0m \u001b[0mTimeoutError\u001b[0m\u001b[0;34m(\u001b[0m\u001b[0mself\u001b[0m\u001b[0;34m.\u001b[0m\u001b[0merror_message\u001b[0m\u001b[0;34m)\u001b[0m\u001b[0;34m\u001b[0m\u001b[0m\n\u001b[0m\u001b[1;32m    176\u001b[0m \u001b[0;34m\u001b[0m\u001b[0m\n\u001b[1;32m    177\u001b[0m     \u001b[0;32mdef\u001b[0m \u001b[0m__enter__\u001b[0m\u001b[0;34m(\u001b[0m\u001b[0mself\u001b[0m\u001b[0;34m)\u001b[0m\u001b[0;34m:\u001b[0m\u001b[0;34m\u001b[0m\u001b[0m\n",
      "\u001b[0;31mTimeoutError\u001b[0m: DMA wait timed out."
     ]
    }
   ],
   "source": [
    "\n",
    "#vals = [1,2,3,4,5,6]\n",
    "#vals2 = [6,5,4,3,2,1]\n",
    "#inter = double(mult(vals, vals))\n",
    "\n",
    "#t = total(inter)\n",
    "\n",
    "#val1 = [5,5,1,1,1,1,1,1,1,1,1,1,1,1,1,1,1,1,1,1,1,1,1,1,1,1,1]\n",
    "#val1 = [6,6,\n",
    "#        1,1,1,1,1,1,\n",
    "#        1,1,1,1,1,1,\n",
    "#        1,1,1,1,1,1,\n",
    "#        1,1,1,1,1,1,\n",
    "#        1,1,1,1,1,1,\n",
    "#        1,1,1,1,1,1]\n",
    "#val2 = [5,5,1,1,1,1,1,1,1,1,1,1,1,1,1,1,1,1,1,1,1,1,1,1,1,1,2]\n",
    "#inter = mult(val1, val2)\n",
    "\n",
    "#t = total(inter)\n",
    "\n",
    "A = [8, 8, \n",
    "     1, 2, 3, 4, 5, 6, 7, 8,\n",
    "     1, 2, 3, 4, 5, 6, 7, 8,\n",
    "     1, 2, 3, 4, 5, 6, 7, 8,\n",
    "     1, 2, 3, 4, 5, 6, 7, 8,\n",
    "     1, 2, 3, 4, 5, 6, 7, 8,\n",
    "     1, 2, 3, 4, 5, 6, 7, 8,\n",
    "     1, 2, 3, 4, 5, 6, 7, 8,\n",
    "     1, 2, 3, 4, 5, 6, 7, 8\n",
    "     ]\n",
    "\n",
    "#B = [3, 3, \n",
    "#     1, 3, 5,\n",
    "#     3, 5, 1,\n",
    "#     5, 3, 1\n",
    "#     ]\n",
    "\n",
    "B = [8,8,\n",
    "    1,1,1,1,1,1,1,1,\n",
    "    1,1,1,1,1,1,1,1,\n",
    "    1,1,1,1,1,1,1,1,\n",
    "    1,1,1,1,1,1,1,1,\n",
    "    1,1,1,1,1,1,1,1,\n",
    "    1,1,1,1,1,1,1,1,\n",
    "    1,1,1,1,1,1,1,1,\n",
    "    1,1,1,1,1,1,1,1\n",
    "    ]\n",
    "t = mult(A, B)\n",
    "print(t)"
   ]
  },
  {
   "cell_type": "markdown",
   "metadata": {},
   "source": [
    "By calling print, we trigger the execution and the value is return"
   ]
  },
  {
   "cell_type": "code",
   "execution_count": 46,
   "metadata": {
    "collapsed": false
   },
   "outputs": [
    {
     "name": "stdout",
     "output_type": "stream",
     "text": [
      "Send DMA: create index 0 name axi_dma_0\n",
      "Send DMA: base_address 40400000\n",
      "Send DMA: sending 264 bytes\n",
      "SWITCH: setting route 0 to 3\n",
      "Send DMA: create index 1 name axi_dma_1\n",
      "Send DMA: base_address 40410000\n",
      "Send DMA: sending 264 bytes\n",
      "SWITCH: setting route 4 to 4\n",
      "SWITCH: setting route 3 to 1\n",
      "SWITCH: setting route 1 to 0\n",
      "Send DMA: transfer started\n",
      "Send DMA: transfer started\n",
      "Send DMA: transfer finished\n",
      "Send DMA: transfer finished\n"
     ]
    },
    {
     "ename": "TimeoutError",
     "evalue": "DMA wait timed out.",
     "output_type": "error",
     "traceback": [
      "\u001b[0;31m---------------------------------------------------------------------------\u001b[0m",
      "\u001b[0;31mTimeoutError\u001b[0m                              Traceback (most recent call last)",
      "\u001b[0;32m<ipython-input-46-514134846a18>\u001b[0m in \u001b[0;36m<module>\u001b[0;34m()\u001b[0m\n\u001b[1;32m      1\u001b[0m \u001b[0;31m#print(t)\u001b[0m\u001b[0;34m\u001b[0m\u001b[0;34m\u001b[0m\u001b[0m\n\u001b[1;32m      2\u001b[0m \u001b[0;31m#tmp = t.hw_value() + 3\u001b[0m\u001b[0;34m\u001b[0m\u001b[0;34m\u001b[0m\u001b[0m\n\u001b[0;32m----> 3\u001b[0;31m \u001b[0mprint\u001b[0m\u001b[0;34m(\u001b[0m\u001b[0mtotal\u001b[0m\u001b[0;34m(\u001b[0m\u001b[0mmult\u001b[0m\u001b[0;34m(\u001b[0m\u001b[0mA\u001b[0m\u001b[0;34m,\u001b[0m\u001b[0mB\u001b[0m\u001b[0;34m)\u001b[0m\u001b[0;34m)\u001b[0m\u001b[0;34m)\u001b[0m\u001b[0;34m\u001b[0m\u001b[0m\n\u001b[0m",
      "\u001b[0;32m<ipython-input-31-bf7c1ff480c4>\u001b[0m in \u001b[0;36m__str__\u001b[0;34m(self)\u001b[0m\n\u001b[1;32m     24\u001b[0m     \u001b[0;32mdef\u001b[0m \u001b[0m__str__\u001b[0m\u001b[0;34m(\u001b[0m\u001b[0mself\u001b[0m\u001b[0;34m)\u001b[0m\u001b[0;34m:\u001b[0m\u001b[0;34m\u001b[0m\u001b[0m\n\u001b[1;32m     25\u001b[0m         \u001b[0;32mif\u001b[0m \u001b[0mself\u001b[0m\u001b[0;34m.\u001b[0m\u001b[0mcached\u001b[0m \u001b[0;32mis\u001b[0m \u001b[0;32mNone\u001b[0m\u001b[0;34m:\u001b[0m\u001b[0;34m\u001b[0m\u001b[0m\n\u001b[0;32m---> 26\u001b[0;31m             \u001b[0mself\u001b[0m\u001b[0;34m.\u001b[0m\u001b[0mcached\u001b[0m \u001b[0;34m=\u001b[0m \u001b[0mself\u001b[0m\u001b[0;34m.\u001b[0m\u001b[0mhw_value\u001b[0m\u001b[0;34m(\u001b[0m\u001b[0;34m)\u001b[0m\u001b[0;34m\u001b[0m\u001b[0m\n\u001b[0m\u001b[1;32m     27\u001b[0m         \u001b[0;32mreturn\u001b[0m \u001b[0mstr\u001b[0m\u001b[0;34m(\u001b[0m\u001b[0mself\u001b[0m\u001b[0;34m.\u001b[0m\u001b[0mcached\u001b[0m\u001b[0;34m)\u001b[0m\u001b[0;34m\u001b[0m\u001b[0m\n\u001b[1;32m     28\u001b[0m \u001b[0;34m\u001b[0m\u001b[0m\n",
      "\u001b[0;32m<ipython-input-31-bf7c1ff480c4>\u001b[0m in \u001b[0;36mhw_value\u001b[0;34m(self)\u001b[0m\n\u001b[1;32m     20\u001b[0m \u001b[0;34m\u001b[0m\u001b[0m\n\u001b[1;32m     21\u001b[0m     \u001b[0;32mdef\u001b[0m \u001b[0mhw_value\u001b[0m\u001b[0;34m(\u001b[0m\u001b[0mself\u001b[0m\u001b[0;34m)\u001b[0m\u001b[0;34m:\u001b[0m\u001b[0;34m\u001b[0m\u001b[0m\n\u001b[0;32m---> 22\u001b[0;31m         \u001b[0;32mreturn\u001b[0m \u001b[0mexecute_hardware\u001b[0m\u001b[0;34m(\u001b[0m\u001b[0mself\u001b[0m\u001b[0;34m)\u001b[0m\u001b[0;34m\u001b[0m\u001b[0m\n\u001b[0m\u001b[1;32m     23\u001b[0m \u001b[0;34m\u001b[0m\u001b[0m\n\u001b[1;32m     24\u001b[0m     \u001b[0;32mdef\u001b[0m \u001b[0m__str__\u001b[0m\u001b[0;34m(\u001b[0m\u001b[0mself\u001b[0m\u001b[0;34m)\u001b[0m\u001b[0;34m:\u001b[0m\u001b[0;34m\u001b[0m\u001b[0m\n",
      "\u001b[0;32m<ipython-input-38-5d3b4a4e7848>\u001b[0m in \u001b[0;36mexecute_hardware\u001b[0;34m(plan)\u001b[0m\n\u001b[1;32m     16\u001b[0m     \u001b[0;32mfor\u001b[0m \u001b[0md\u001b[0m \u001b[0;32min\u001b[0m \u001b[0mdma\u001b[0m\u001b[0;34m:\u001b[0m\u001b[0;34m\u001b[0m\u001b[0m\n\u001b[1;32m     17\u001b[0m         \u001b[0md\u001b[0m\u001b[0;34m.\u001b[0m\u001b[0mwait\u001b[0m\u001b[0;34m(\u001b[0m\u001b[0;34m)\u001b[0m\u001b[0;34m\u001b[0m\u001b[0m\n\u001b[0;32m---> 18\u001b[0;31m     \u001b[0mret_dma\u001b[0m\u001b[0;34m.\u001b[0m\u001b[0mwait\u001b[0m\u001b[0;34m(\u001b[0m\u001b[0;34m)\u001b[0m\u001b[0;34m\u001b[0m\u001b[0m\n\u001b[0m\u001b[1;32m     19\u001b[0m     \u001b[0mbytes_read\u001b[0m \u001b[0;34m=\u001b[0m \u001b[0mret_dma_mmio\u001b[0m\u001b[0;34m.\u001b[0m\u001b[0mread\u001b[0m\u001b[0;34m(\u001b[0m\u001b[0;36m0x58\u001b[0m\u001b[0;34m)\u001b[0m\u001b[0;34m\u001b[0m\u001b[0m\n\u001b[1;32m     20\u001b[0m     \u001b[0mffi\u001b[0m \u001b[0;34m=\u001b[0m \u001b[0mpynq\u001b[0m\u001b[0;34m.\u001b[0m\u001b[0mdrivers\u001b[0m\u001b[0;34m.\u001b[0m\u001b[0mdma\u001b[0m\u001b[0;34m.\u001b[0m\u001b[0mffi\u001b[0m\u001b[0;34m\u001b[0m\u001b[0m\n",
      "\u001b[0;32m/usr/local/lib/python3.4/dist-packages/pynq/drivers/dma.py\u001b[0m in \u001b[0;36mwait\u001b[0;34m(self, wait_timeout)\u001b[0m\n\u001b[1;32m    439\u001b[0m         \u001b[0;32mwith\u001b[0m \u001b[0mtimeout\u001b[0m\u001b[0;34m(\u001b[0m\u001b[0mseconds\u001b[0m \u001b[0;34m=\u001b[0m \u001b[0mwait_timeout\u001b[0m\u001b[0;34m,\u001b[0m \u001b[0merror_message\u001b[0m \u001b[0;34m=\u001b[0m \u001b[0mError\u001b[0m\u001b[0;34m)\u001b[0m\u001b[0;34m:\u001b[0m\u001b[0;34m\u001b[0m\u001b[0m\n\u001b[1;32m    440\u001b[0m             \u001b[0;32mwhile\u001b[0m \u001b[0;32mTrue\u001b[0m\u001b[0;34m:\u001b[0m\u001b[0;34m\u001b[0m\u001b[0m\n\u001b[0;32m--> 441\u001b[0;31m                 \u001b[0;32mif\u001b[0m \u001b[0mlibdma\u001b[0m\u001b[0;34m.\u001b[0m\u001b[0mXAxiDma_Busy\u001b[0m\u001b[0;34m(\u001b[0m\u001b[0mself\u001b[0m\u001b[0;34m.\u001b[0m\u001b[0mDMAengine\u001b[0m\u001b[0;34m,\u001b[0m\u001b[0mself\u001b[0m\u001b[0;34m.\u001b[0m\u001b[0mdirection\u001b[0m\u001b[0;34m)\u001b[0m \u001b[0;34m==\u001b[0m \u001b[0;36m0\u001b[0m\u001b[0;34m:\u001b[0m\u001b[0;34m\u001b[0m\u001b[0m\n\u001b[0m\u001b[1;32m    442\u001b[0m                     \u001b[0;32mbreak\u001b[0m\u001b[0;34m\u001b[0m\u001b[0m\n\u001b[1;32m    443\u001b[0m \u001b[0;34m\u001b[0m\u001b[0m\n",
      "\u001b[0;32m/usr/local/lib/python3.4/dist-packages/pynq/drivers/dma.py\u001b[0m in \u001b[0;36mhandle_timeout\u001b[0;34m(self, signum, frame)\u001b[0m\n\u001b[1;32m    173\u001b[0m \u001b[0;34m\u001b[0m\u001b[0m\n\u001b[1;32m    174\u001b[0m     \u001b[0;32mdef\u001b[0m \u001b[0mhandle_timeout\u001b[0m\u001b[0;34m(\u001b[0m\u001b[0mself\u001b[0m\u001b[0;34m,\u001b[0m \u001b[0msignum\u001b[0m\u001b[0;34m,\u001b[0m \u001b[0mframe\u001b[0m\u001b[0;34m)\u001b[0m\u001b[0;34m:\u001b[0m\u001b[0;34m\u001b[0m\u001b[0m\n\u001b[0;32m--> 175\u001b[0;31m         \u001b[0;32mraise\u001b[0m \u001b[0mTimeoutError\u001b[0m\u001b[0;34m(\u001b[0m\u001b[0mself\u001b[0m\u001b[0;34m.\u001b[0m\u001b[0merror_message\u001b[0m\u001b[0;34m)\u001b[0m\u001b[0;34m\u001b[0m\u001b[0m\n\u001b[0m\u001b[1;32m    176\u001b[0m \u001b[0;34m\u001b[0m\u001b[0m\n\u001b[1;32m    177\u001b[0m     \u001b[0;32mdef\u001b[0m \u001b[0m__enter__\u001b[0m\u001b[0;34m(\u001b[0m\u001b[0mself\u001b[0m\u001b[0;34m)\u001b[0m\u001b[0;34m:\u001b[0m\u001b[0;34m\u001b[0m\u001b[0m\n",
      "\u001b[0;31mTimeoutError\u001b[0m: DMA wait timed out."
     ]
    }
   ],
   "source": [
    "#print(t)\n",
    "#tmp = t.hw_value() + 3\n",
    "print(total(mult(A,B)))"
   ]
  },
  {
   "cell_type": "markdown",
   "metadata": {},
   "source": [
    "Because we never stored the intermediate value, if the user later requests it, we would need to redo the computation"
   ]
  },
  {
   "cell_type": "code",
   "execution_count": 12,
   "metadata": {
    "collapsed": false
   },
   "outputs": [
    {
     "name": "stdout",
     "output_type": "stream",
     "text": [
      "Send DMA: create index 0 name axi_dma_0\n",
      "Send DMA: base_address 40400000\n",
      "Send DMA: sending 152 bytes\n",
      "SWITCH: setting route 0 to 3\n",
      "Send DMA: create index 1 name axi_dma_1\n",
      "Send DMA: base_address 40410000\n",
      "Send DMA: sending 108 bytes\n",
      "SWITCH: setting route 4 to 4\n",
      "SWITCH: setting route 3 to 0\n",
      "Send DMA: transfer started\n",
      "Send DMA: transfer started\n",
      "Send DMA: transfer finished\n",
      "Send DMA: transfer finished\n",
      "[ 9 12 15 15 12  9 12 16 20 20 16 12 15 20 26 26 21 16 15 20 26 26 21 16 12\n",
      " 16 21 21 17 13  9 12 16 16 13 10]\n"
     ]
    }
   ],
   "source": [
    "print(inter)"
   ]
  },
  {
   "cell_type": "markdown",
   "metadata": {},
   "source": [
    "Our hardware also contains a block that multiplies by a constant. The constant is passed in using the AXI-lite interface."
   ]
  },
  {
   "cell_type": "code",
   "execution_count": 43,
   "metadata": {
    "collapsed": false
   },
   "outputs": [
    {
     "name": "stdout",
     "output_type": "stream",
     "text": [
      "Send DMA: create index 0 name axi_dma_0\n",
      "Send DMA: base_address 40400000\n",
      "Send DMA: sending 28 bytes\n",
      "SWITCH: setting route 0 to 6\n",
      "SWITCH: setting route 5 to 0\n",
      "Send DMA: transfer started\n",
      "Send DMA: transfer finished\n",
      "[ 5 10 15 20 25 30 35]\n"
     ]
    }
   ],
   "source": [
    "@hardware_function('Xilinx:hls:mult_constant:1.0')\n",
    "def constant_multiply(in_data:[np.int32], constant:np.int32) -> [np.int32]:\n",
    "    return [v * constant for v in in_data]\n",
    "\n",
    "print(constant_multiply([1,2,3,4,5,6,7], 5))"
   ]
  },
  {
   "cell_type": "markdown",
   "metadata": {},
   "source": [
    "As `constant_multiple` is a python function like any other, we can also do function-y things to it. For example, we can use the `functools` library to partially apply the constant, giving us a new implementation of `double` in terms of `constant_multiply`"
   ]
  },
  {
   "cell_type": "code",
   "execution_count": 14,
   "metadata": {
    "collapsed": false
   },
   "outputs": [
    {
     "ename": "NameError",
     "evalue": "name 'vals' is not defined",
     "output_type": "error",
     "traceback": [
      "\u001b[0;31m---------------------------------------------------------------------------\u001b[0m",
      "\u001b[0;31mNameError\u001b[0m                                 Traceback (most recent call last)",
      "\u001b[0;32m<ipython-input-14-b80cb0d1b9bf>\u001b[0m in \u001b[0;36m<module>\u001b[0;34m()\u001b[0m\n\u001b[1;32m      2\u001b[0m \u001b[0;34m\u001b[0m\u001b[0m\n\u001b[1;32m      3\u001b[0m \u001b[0mnew_double\u001b[0m \u001b[0;34m=\u001b[0m \u001b[0mfunctools\u001b[0m\u001b[0;34m.\u001b[0m\u001b[0mpartial\u001b[0m\u001b[0;34m(\u001b[0m\u001b[0mconstant_multiply\u001b[0m\u001b[0;34m,\u001b[0m \u001b[0mconstant\u001b[0m\u001b[0;34m=\u001b[0m\u001b[0;36m2\u001b[0m\u001b[0;34m)\u001b[0m\u001b[0;34m\u001b[0m\u001b[0m\n\u001b[0;32m----> 4\u001b[0;31m \u001b[0mprint\u001b[0m\u001b[0;34m(\u001b[0m\u001b[0mnew_double\u001b[0m\u001b[0;34m(\u001b[0m\u001b[0mmult\u001b[0m\u001b[0;34m(\u001b[0m\u001b[0mvals\u001b[0m\u001b[0;34m,\u001b[0m\u001b[0mvals2\u001b[0m\u001b[0;34m)\u001b[0m\u001b[0;34m)\u001b[0m\u001b[0;34m)\u001b[0m\u001b[0;34m\u001b[0m\u001b[0m\n\u001b[0m\u001b[1;32m      5\u001b[0m \u001b[0;34m\u001b[0m\u001b[0m\n",
      "\u001b[0;31mNameError\u001b[0m: name 'vals' is not defined"
     ]
    }
   ],
   "source": [
    "import functools\n",
    "\n",
    "new_double = functools.partial(constant_multiply, constant=2)\n",
    "print(new_double(mult(vals,vals2)))\n",
    "\n"
   ]
  },
  {
   "cell_type": "markdown",
   "metadata": {
    "collapsed": true
   },
   "source": [
    "## Open Problems\n",
    "* Allocation of receive buffer\n",
    "* Data bigger than buffer size - SG may be able to help here\n",
    "* 0-length arrays - AXI4-Stream has no concept of a 0-length stream. Maybe a word with no strb bits?\n",
    "* Current wrapper logic is patchy at best but completely proxying a python object is non-trivial\n",
    "\n",
    "## Possible features\n",
    "* Plan partitioning for plans with more Calls than execution units/DMA engines\n",
    "* Re-use of intermediate values\n",
    "* I/O functions which configure the switch to route I/O directly\n",
    "* AXI-Master HLS support\n",
    "\n",
    "## Performance considerations\n",
    "* Need a way for users to CMA alloc a numpy array\n",
    "* Buffers not bound to DMA so that any CMA allocated buffer can be passed"
   ]
  },
  {
   "cell_type": "code",
   "execution_count": null,
   "metadata": {
    "collapsed": true
   },
   "outputs": [],
   "source": []
  }
 ],
 "metadata": {
  "kernelspec": {
   "display_name": "Python 3",
   "language": "python",
   "name": "python3"
  },
  "language_info": {
   "codemirror_mode": {
    "name": "ipython",
    "version": 3
   },
   "file_extension": ".py",
   "mimetype": "text/x-python",
   "name": "python",
   "nbconvert_exporter": "python",
   "pygments_lexer": "ipython3",
   "version": "3.4.3+"
  }
 },
 "nbformat": 4,
 "nbformat_minor": 1
}
