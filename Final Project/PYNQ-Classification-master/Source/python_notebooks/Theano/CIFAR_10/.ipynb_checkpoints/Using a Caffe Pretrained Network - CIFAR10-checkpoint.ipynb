{
 "cells": [
  {
   "cell_type": "markdown",
   "metadata": {},
   "source": [
    "# Introduction\n",
    "\n",
    "This example demonstrates how to convert a network from [Caffe's Model Zoo](https://github.com/BVLC/caffe/wiki/Model-Zoo) for use with Lasagne. We will be using the Caffe version of CIFAR-10 Model.\n",
    "\n",
    "We will create a set of Lasagne layers corresponding to the Caffe model specification (prototxt), then copy the parameters from the caffemodel file into our model."
   ]
  },
  {
   "cell_type": "markdown",
   "metadata": {
    "collapsed": false
   },
   "source": [
    "# Converting from Caffe to Lasagne\n",
    "### Download the required files\n",
    "\n",
    "First we download `cifar10_nin.caffemodel` and `model.prototxt`. The supplied `train_val.prototxt` was modified to replace the data layers with an input specification, and remove the unneeded loss/accuracy layers."
   ]
  },
  {
   "cell_type": "markdown",
   "metadata": {},
   "source": [
    "### Import Caffe\n",
    "\n",
    "To load the saved parameters, we'll need to have Caffe's Python bindings installed."
   ]
  },
  {
   "cell_type": "code",
   "execution_count": 1,
   "metadata": {
    "collapsed": false
   },
   "outputs": [],
   "source": [
    "import sys\n",
    "caffe_root = '/home/xilinx/caffe/'  # this file should be run from {caffe_root}/examples (otherwise change this line)\n",
    "sys.path.insert(0, caffe_root + 'python')\n",
    "import caffe"
   ]
  },
  {
   "cell_type": "markdown",
   "metadata": {},
   "source": [
    "### Load the pretrained Caffe network"
   ]
  },
  {
   "cell_type": "code",
   "execution_count": 2,
   "metadata": {
    "collapsed": false
   },
   "outputs": [],
   "source": [
    "net_caffe = caffe.Net('CIFAR_10.prototxt', 'cifar10_quick_iter_5000.caffemodel.h5', caffe.TEST)"
   ]
  },
  {
   "cell_type": "markdown",
   "metadata": {},
   "source": [
    "### Import Lasagne"
   ]
  },
  {
   "cell_type": "code",
   "execution_count": 3,
   "metadata": {
    "collapsed": false
   },
   "outputs": [],
   "source": [
    "import lasagne\n",
    "from lasagne.layers import InputLayer, DropoutLayer, DenseLayer, NonlinearityLayer\n",
    "#from lasagne.layers.dnn import Conv2DDNNLayer as ConvLayer\n",
    "from lasagne.layers import Conv2DLayer as ConvLayer\n",
    "from lasagne.layers import Pool2DLayer as PoolLayer\n",
    "from lasagne.nonlinearities import softmax, rectify, linear\n",
    "import conv_fpga\n",
    "from conv_fpga import FPGA_CIFAR10\n",
    "from conv_fpga import FPGAQuickTest\n",
    "#from conv_fpga import Conv2DLayer as ConvLayer\n",
    "from conv_fpga import FPGAWeightLoader as FPGALoadW\n",
    "from lasagne.utils import floatX"
   ]
  },
  {
   "cell_type": "markdown",
   "metadata": {},
   "source": [
    "### Create a Lasagne network\n",
    "Layer names match those in `model.prototxt`"
   ]
  },
  {
   "cell_type": "code",
   "execution_count": 4,
   "metadata": {
    "collapsed": false
   },
   "outputs": [],
   "source": [
    "net = {}\n",
    "net['input'] = InputLayer((None, 3, 32, 32))\n",
    "net['conv1'] = ConvLayer(net['input'], num_filters=32, filter_size=5, pad=2, nonlinearity=None)\n",
    "net['pool1'] = PoolLayer(net['conv1'], pool_size=2, stride=2, mode='max', ignore_border=False)\n",
    "net['relu1'] = NonlinearityLayer(net['pool1'], rectify)\n",
    "net['conv2'] = ConvLayer(net['relu1'], num_filters=32, filter_size=5, pad=2, nonlinearity=rectify)\n",
    "net['pool2'] = PoolLayer(net['conv2'], pool_size=2, stride=2, mode='average_exc_pad', ignore_border=False)\n",
    "net['conv3'] = ConvLayer(net['pool2'], num_filters=64, filter_size=5, pad=2, nonlinearity=rectify)\n",
    "net['pool3'] = PoolLayer(net['conv3'], pool_size=2, stride=2, mode='average_exc_pad', ignore_border=False)\n",
    "net['ip1'] = DenseLayer(net['pool3'], num_units=64, nonlinearity = None)\n",
    "net['ip2'] = DenseLayer(net['ip1'], num_units=10, nonlinearity = None)\n",
    "net['prob'] = NonlinearityLayer(net['ip2'], softmax)"
   ]
  },
  {
   "cell_type": "markdown",
   "metadata": {
    "collapsed": false
   },
   "source": [
    "### Copy the parameters from Caffe to Lasagne"
   ]
  },
  {
   "cell_type": "code",
   "execution_count": 5,
   "metadata": {
    "collapsed": false
   },
   "outputs": [],
   "source": [
    "import numpy as np\n",
    "\n",
    "layers_caffe = dict(zip(list(net_caffe._layer_names), net_caffe.layers))\n",
    "\n",
    "for name, layer in net.items():\n",
    "    try:\n",
    "#        layer.W.set_value(layers_caffe[name].blobs[0].data)\n",
    "#        layer.b.set_value(layers_caffe[name].blobs[1].data)     \n",
    "        if name=='ip1'or name=='ip2':\n",
    "            layer.W.set_value(np.transpose(layers_caffe[name].blobs[0].data))\n",
    "            layer.b.set_value(layers_caffe[name].blobs[1].data)\n",
    "#             print((layers_caffe[name].blobs[0].data.shape))\n",
    "#             print(np.amax(layers_caffe[name].blobs[0].data))\n",
    "#             print(np.amin(layers_caffe[name].blobs[0].data))\n",
    "        else:\n",
    "            layer.W.set_value(layers_caffe[name].blobs[0].data[:,:,::-1,::-1])\n",
    "            layer.b.set_value(layers_caffe[name].blobs[1].data)\n",
    "#             print((layers_caffe[name].blobs[0].data.shape))\n",
    "#             print(np.amax(layers_caffe[name].blobs[0].data))\n",
    "#             print(np.amin(layers_caffe[name].blobs[0].data))\n",
    "            \n",
    "    except AttributeError:\n",
    "        continue"
   ]
  },
  {
   "cell_type": "markdown",
   "metadata": {},
   "source": [
    "### Copy the parameters from CPU to FPGA OnChip Memory"
   ]
  },
  {
   "cell_type": "code",
   "execution_count": 6,
   "metadata": {
    "collapsed": false
   },
   "outputs": [
    {
     "name": "stdout",
     "output_type": "stream",
     "text": [
      "weight shape (32, 3, 5, 5)\n",
      "kermax 0.191131100059\n",
      "kermin -0.26925727725\n",
      "Elapsed Test Time:  0.0028484150000025465\n",
      "weight shape (32, 32, 5, 5)\n",
      "kermax 0.112733885646\n",
      "kermin -0.121608451009\n",
      "Elapsed Test Time:  0.000710628000000213\n",
      "weight shape (64, 32, 5, 5)\n",
      "kermax 0.0932634323835\n",
      "kermin -0.0825128629804\n",
      "Elapsed Test Time:  0.0012873229999996738\n",
      "weight shape (64, 64, 4, 4)\n",
      "kermax 0.366065233946\n",
      "kermin -0.347633630037\n",
      "Elapsed Test Time:  0.0016130619999970008\n",
      "weight shape (10, 64, 1, 1)\n",
      "kermax 0.284343063831\n",
      "kermin -0.279969036579\n",
      "Elapsed Test Time:  0.00020939399999875263\n"
     ]
    }
   ],
   "source": [
    "#FPGALoadW(weight, status, IFDim, OFDim, PadDim)\n",
    "weight = net['conv1'].W.get_value()\n",
    "FPGALoadW(weight, 1, 32, 32, 2)\n",
    "weight = net['conv2'].W.get_value()\n",
    "FPGALoadW(weight, 2, 16, 16, 2)\n",
    "weight = net['conv3'].W.get_value()\n",
    "FPGALoadW(weight, 3, 8, 8, 2)\n",
    "weight = net['ip1'].W.get_value()\n",
    "weight = np.transpose(weight)\n",
    "weight = weight.reshape(64, 64, 4, 4)\n",
    "FPGALoadW(weight, 4, 4, 1, 0, flip_filters=False)\n",
    "weight = net['ip2'].W.get_value()\n",
    "weight = np.transpose(weight)\n",
    "weight = weight.reshape(10, 64, 1, 1)\n",
    "FPGALoadW(weight, 5, 1, 1, 0, flip_filters=False)"
   ]
  },
  {
   "cell_type": "markdown",
   "metadata": {
    "collapsed": false
   },
   "source": [
    "# Trying it out\n",
    "Let's see if that worked. \n",
    "\n",
    "### Import numpy and set up plotting\n",
    "### Import time"
   ]
  },
  {
   "cell_type": "code",
   "execution_count": 7,
   "metadata": {
    "collapsed": true
   },
   "outputs": [],
   "source": [
    "import gzip\n",
    "import _pickle as cPickle\n",
    "import matplotlib.pyplot as plt\n",
    "import time\n",
    "\n",
    "%matplotlib inline"
   ]
  },
  {
   "cell_type": "markdown",
   "metadata": {},
   "source": [
    "### Download some test data\n",
    "Load CIFAR_10 test data."
   ]
  },
  {
   "cell_type": "code",
   "execution_count": 8,
   "metadata": {
    "collapsed": false
   },
   "outputs": [
    {
     "data": {
      "text/plain": [
       "<matplotlib.image.AxesImage at 0x2a16d3d0>"
      ]
     },
     "execution_count": 8,
     "metadata": {},
     "output_type": "execute_result"
    },
    {
     "data": {
      "image/png": "[encoded data removed]",
      "text/plain": [
       "<matplotlib.figure.Figure at 0x2a2923b0>"
      ]
     },
     "metadata": {},
     "output_type": "display_data"
    }
   ],
   "source": [
    "data = np.load('cifar10.npz')\n",
    "mean_image = np.load('mean_image.npy')\n",
    "data_zeromean = data['raw'] - mean_image\n",
    "# print(np.shape(data['whitened'][0:1]))\n",
    "# print(np.amax(data['raw'][0:1]))\n",
    "# print(np.amin(data['raw'][0:1]))\n",
    "##\n",
    "def make_image(X):\n",
    "    im = np.swapaxes(X.T, 0, 1)\n",
    "    im = im - im.min()\n",
    "    im = im * 1.0 / im.max()\n",
    "    return im\n",
    "plt.figure(figsize=(5, 5))\n",
    "plt.imshow(make_image(data['raw'][0]), interpolation='nearest')"
   ]
  },
  {
   "cell_type": "markdown",
   "metadata": {},
   "source": [
    "### FPGA Deployment (CIFAR10 Layer)"
   ]
  },
  {
   "cell_type": "code",
   "execution_count": 11,
   "metadata": {
    "collapsed": true
   },
   "outputs": [],
   "source": [
    "FPGA_net = {}\n",
    "FPGA_net['input'] = InputLayer((None, 3, 32, 32))\n",
    "FPGA_net['cifar10'] = FPGA_CIFAR10(FPGA_net['input'])\n",
    "FPGA_net['prob'] = NonlinearityLayer(FPGA_net['cifar10'], softmax)"
   ]
  },
  {
   "cell_type": "code",
   "execution_count": 12,
   "metadata": {
    "collapsed": false
   },
   "outputs": [
    {
     "name": "stdout",
     "output_type": "stream",
     "text": [
      "Elapsed Test Time:  3.339431673000007\n",
      "CPU times: user 11.2 s, sys: 3.35 s, total: 14.6 s\n",
      "Wall time: 12.6 s\n"
     ]
    }
   ],
   "source": [
    "batch_size = 500\n",
    "\n",
    "%time prob = lasagne.layers.get_output(FPGA_net['cifar10'], floatX(data_zeromean[0:batch_size]), deterministic=True)#.eval()\n",
    "FPGA_predicted = np.argmax(prob, 1)"
   ]
  },
  {
   "cell_type": "code",
   "execution_count": 13,
   "metadata": {
    "collapsed": false
   },
   "outputs": [
    {
     "name": "stdout",
     "output_type": "stream",
     "text": [
      "[3 8 0 0 6 6 9 6 7 1 0 9 5 2 9 8 5 9 8 6 0 6 0 9 4 6 4 0 9 6 6 5 0 3 9 1 4\n",
      " 1 9 3 0 6 3 6 0 9 3 0 7 0 9 9 2 6 8 8 4 2 0 3 7 3 3 9 1 2 1 0 3 7 0 6 0 8\n",
      " 0 2 0 5 2 1 8 1 1 0 0 7 0 0 8 1 0 1 9 6 0 6 6 0 6 2 0 1 6 3 1 1 1 6 6 2 4\n",
      " 0 6 0 1 7 0 4 1 5 8 0 9 2 8 1 9 3 3 8 4 1 8 9 0 0 9 7 6 1 0 0 1 1 0 0 6 3\n",
      " 1 3 0 9 0 0 2 5 0 9 3 4 0 1 6 6 1 0 0 6 7 8 9 0 1 8 9 1 3 7 5 0 0 5 2 0 0\n",
      " 8 6 3 7 0 0 0 0 2 0 0 8 0 5 8 0 1 1 9 1 0 0 2 7 9 7 0 3 5 0 8 0 9 0 4 3 5\n",
      " 1 1 3 1 0 4 0 0 3 1 0 8 1 0 0 0 0 1 1 1 1 9 0 0 1 8 7 4 7 3 1 1 2 0 3 0 8\n",
      " 9 8 9 5 6 1 0 8 1 7 0 0 0 6 9 8 0 0 0 0 6 9 0 0 1 9 9 1 0 3 9 1 2 6 1 3 0\n",
      " 6 1 0 6 6 2 0 8 3 1 9 0 1 0 1 6 0 0 4 0 0 5 6 5 0 5 2 0 2 1 7 0 4 6 0 7 0\n",
      " 6 6 1 3 8 0 1 4 6 0 7 8 3 4 6 8 9 1 1 0 2 0 7 0 2 1 8 9 5 8 8 9 9 0 7 0 1\n",
      " 0 7 9 0 7 7 9 7 0 6 6 9 9 0 5 5 7 4 3 5 1 0 6 2 1 6 2 0 0 5 9 1 7 8 8 1 0\n",
      " 0 6 2 7 0 3 6 1 9 3 2 0 7 4 7 8 0 0 9 1 1 6 6 0 0 6 7 0 7 9 6 3 1 1 0 9 9\n",
      " 6 6 0 2 0 0 9 9 7 0 9 4 6 2 0 9 4 6 1 1 9 4 1 3 3 8 0 0 8 0 6 5 6 0 5 4 9\n",
      " 6 8 0 3 9 9 9 0 0 1 0 0 1 1 1 0 2 2 0]\n",
      "[3 8 8 0 6 6 1 6 3 1 0 9 5 7 9 8 5 7 8 6 7 0 4 9 5 2 4 0 9 6 6 5 4 5 9 2 4\n",
      " 1 9 5 4 6 5 6 0 9 3 9 7 6 9 8 0 3 8 8 7 7 4 6 7 3 6 3 6 2 1 2 3 7 2 6 8 8\n",
      " 0 2 9 3 3 8 8 1 1 7 2 5 2 7 8 9 0 3 8 6 4 6 6 0 0 7 4 5 6 3 1 1 3 6 8 7 4\n",
      " 0 6 2 1 3 0 4 2 7 8 3 1 2 8 0 8 3 5 2 4 1 8 9 1 2 9 7 2 9 6 5 6 3 8 7 6 2\n",
      " 5 2 8 9 6 0 0 5 2 9 5 4 2 1 6 6 8 4 8 4 5 0 9 9 9 8 9 9 3 7 5 0 0 5 2 2 3\n",
      " 8 6 3 4 0 5 8 0 1 7 2 8 8 7 8 5 1 8 7 1 3 0 5 7 9 7 4 5 9 8 0 7 9 8 2 7 6\n",
      " 9 4 3 9 6 4 7 6 5 1 5 8 8 0 4 0 5 5 1 1 8 9 0 3 1 9 2 2 5 3 9 9 4 0 3 0 0\n",
      " 9 8 1 5 7 0 8 2 4 7 0 2 3 6 3 8 5 0 3 4 3 9 0 6 1 0 9 1 0 7 9 1 2 6 9 3 4\n",
      " 6 0 0 6 6 6 3 2 6 1 8 2 1 6 8 6 8 0 4 0 7 7 5 5 3 5 2 3 4 1 7 5 4 6 1 9 3\n",
      " 6 6 9 3 8 0 7 2 6 2 5 8 5 4 6 8 9 9 1 0 2 2 7 3 2 8 0 9 5 8 1 9 4 1 3 8 1\n",
      " 4 7 9 4 2 7 0 7 0 6 6 9 0 9 2 8 7 2 2 5 1 2 6 2 9 6 2 3 0 3 9 8 7 8 8 4 0\n",
      " 1 8 2 7 9 3 6 1 9 0 7 3 7 4 5 0 0 2 9 3 4 0 6 2 5 3 7 3 7 2 5 3 1 1 4 9 9\n",
      " 5 7 5 0 2 2 2 9 7 3 9 4 3 5 4 6 5 6 1 4 3 4 4 3 7 8 3 7 8 0 5 7 6 0 5 4 8\n",
      " 6 8 5 5 9 9 9 5 0 1 0 8 1 1 8 0 2 2 0]\n",
      "0.496\n"
     ]
    }
   ],
   "source": [
    "FPGA_accuracy = np.mean(FPGA_predicted == data['labels'][0:batch_size])\n",
    "print(FPGA_predicted)\n",
    "print(data['labels'][0:batch_size])\n",
    "print(FPGA_accuracy)"
   ]
  },
  {
   "cell_type": "markdown",
   "metadata": {},
   "source": [
    "### FPGA Deployment (QuickTest Function)"
   ]
  },
  {
   "cell_type": "code",
   "execution_count": 30,
   "metadata": {
    "collapsed": false
   },
   "outputs": [
    {
     "name": "stdout",
     "output_type": "stream",
     "text": [
      "Elapsed Test Time:  0.00503736900009244\n"
     ]
    },
    {
     "ename": "TimeoutError",
     "evalue": "DMA wait timed out.",
     "output_type": "error",
     "traceback": [
      "\u001b[0;31m---------------------------------------------------------------------------\u001b[0m",
      "\u001b[0;31mTimeoutError\u001b[0m                              Traceback (most recent call last)",
      "\u001b[0;32m<ipython-input-30-ec1d3961b0a6>\u001b[0m in \u001b[0;36m<module>\u001b[0;34m()\u001b[0m\n\u001b[1;32m      3\u001b[0m \u001b[0mOFMDim\u001b[0m \u001b[0;34m=\u001b[0m \u001b[0;36m1\u001b[0m\u001b[0;34m\u001b[0m\u001b[0m\n\u001b[1;32m      4\u001b[0m \u001b[0mOFMCH\u001b[0m \u001b[0;34m=\u001b[0m \u001b[0;36m10\u001b[0m\u001b[0;34m\u001b[0m\u001b[0m\n\u001b[0;32m----> 5\u001b[0;31m \u001b[0mget_ipython\u001b[0m\u001b[0;34m(\u001b[0m\u001b[0;34m)\u001b[0m\u001b[0;34m.\u001b[0m\u001b[0mmagic\u001b[0m\u001b[0;34m(\u001b[0m\u001b[0;34m'time FPGA_output = FPGAQuickTest(data_zeromean*0.85, batch_size, OFMDim, OFMCH)'\u001b[0m\u001b[0;34m)\u001b[0m\u001b[0;34m\u001b[0m\u001b[0m\n\u001b[0m\u001b[1;32m      6\u001b[0m \u001b[0mFPGA_predicted\u001b[0m \u001b[0;34m=\u001b[0m \u001b[0mnp\u001b[0m\u001b[0;34m.\u001b[0m\u001b[0margmax\u001b[0m\u001b[0;34m(\u001b[0m\u001b[0mFPGA_output\u001b[0m\u001b[0;34m.\u001b[0m\u001b[0mreshape\u001b[0m\u001b[0;34m(\u001b[0m\u001b[0mbatch_size\u001b[0m\u001b[0;34m,\u001b[0m \u001b[0;34m-\u001b[0m\u001b[0;36m1\u001b[0m\u001b[0;34m)\u001b[0m\u001b[0;34m,\u001b[0m \u001b[0;36m1\u001b[0m\u001b[0;34m)\u001b[0m\u001b[0;34m\u001b[0m\u001b[0m\n\u001b[1;32m      7\u001b[0m \u001b[0;31m#np.save('FPGA_output', FPGA_output)\u001b[0m\u001b[0;34m\u001b[0m\u001b[0;34m\u001b[0m\u001b[0m\n",
      "\u001b[0;32m/usr/local/lib/python3.4/dist-packages/IPython/core/interactiveshell.py\u001b[0m in \u001b[0;36mmagic\u001b[0;34m(self, arg_s)\u001b[0m\n\u001b[1;32m   2144\u001b[0m         \u001b[0mmagic_name\u001b[0m\u001b[0;34m,\u001b[0m \u001b[0m_\u001b[0m\u001b[0;34m,\u001b[0m \u001b[0mmagic_arg_s\u001b[0m \u001b[0;34m=\u001b[0m \u001b[0marg_s\u001b[0m\u001b[0;34m.\u001b[0m\u001b[0mpartition\u001b[0m\u001b[0;34m(\u001b[0m\u001b[0;34m' '\u001b[0m\u001b[0;34m)\u001b[0m\u001b[0;34m\u001b[0m\u001b[0m\n\u001b[1;32m   2145\u001b[0m         \u001b[0mmagic_name\u001b[0m \u001b[0;34m=\u001b[0m \u001b[0mmagic_name\u001b[0m\u001b[0;34m.\u001b[0m\u001b[0mlstrip\u001b[0m\u001b[0;34m(\u001b[0m\u001b[0mprefilter\u001b[0m\u001b[0;34m.\u001b[0m\u001b[0mESC_MAGIC\u001b[0m\u001b[0;34m)\u001b[0m\u001b[0;34m\u001b[0m\u001b[0m\n\u001b[0;32m-> 2146\u001b[0;31m         \u001b[0;32mreturn\u001b[0m \u001b[0mself\u001b[0m\u001b[0;34m.\u001b[0m\u001b[0mrun_line_magic\u001b[0m\u001b[0;34m(\u001b[0m\u001b[0mmagic_name\u001b[0m\u001b[0;34m,\u001b[0m \u001b[0mmagic_arg_s\u001b[0m\u001b[0;34m)\u001b[0m\u001b[0;34m\u001b[0m\u001b[0m\n\u001b[0m\u001b[1;32m   2147\u001b[0m \u001b[0;34m\u001b[0m\u001b[0m\n\u001b[1;32m   2148\u001b[0m     \u001b[0;31m#-------------------------------------------------------------------------\u001b[0m\u001b[0;34m\u001b[0m\u001b[0;34m\u001b[0m\u001b[0m\n",
      "\u001b[0;32m/usr/local/lib/python3.4/dist-packages/IPython/core/interactiveshell.py\u001b[0m in \u001b[0;36mrun_line_magic\u001b[0;34m(self, magic_name, line)\u001b[0m\n\u001b[1;32m   2065\u001b[0m                 \u001b[0mkwargs\u001b[0m\u001b[0;34m[\u001b[0m\u001b[0;34m'local_ns'\u001b[0m\u001b[0;34m]\u001b[0m \u001b[0;34m=\u001b[0m \u001b[0msys\u001b[0m\u001b[0;34m.\u001b[0m\u001b[0m_getframe\u001b[0m\u001b[0;34m(\u001b[0m\u001b[0mstack_depth\u001b[0m\u001b[0;34m)\u001b[0m\u001b[0;34m.\u001b[0m\u001b[0mf_locals\u001b[0m\u001b[0;34m\u001b[0m\u001b[0m\n\u001b[1;32m   2066\u001b[0m             \u001b[0;32mwith\u001b[0m \u001b[0mself\u001b[0m\u001b[0;34m.\u001b[0m\u001b[0mbuiltin_trap\u001b[0m\u001b[0;34m:\u001b[0m\u001b[0;34m\u001b[0m\u001b[0m\n\u001b[0;32m-> 2067\u001b[0;31m                 \u001b[0mresult\u001b[0m \u001b[0;34m=\u001b[0m \u001b[0mfn\u001b[0m\u001b[0;34m(\u001b[0m\u001b[0;34m*\u001b[0m\u001b[0margs\u001b[0m\u001b[0;34m,\u001b[0m\u001b[0;34m**\u001b[0m\u001b[0mkwargs\u001b[0m\u001b[0;34m)\u001b[0m\u001b[0;34m\u001b[0m\u001b[0m\n\u001b[0m\u001b[1;32m   2068\u001b[0m             \u001b[0;32mreturn\u001b[0m \u001b[0mresult\u001b[0m\u001b[0;34m\u001b[0m\u001b[0m\n\u001b[1;32m   2069\u001b[0m \u001b[0;34m\u001b[0m\u001b[0m\n",
      "\u001b[0;32m<decorator-gen-59>\u001b[0m in \u001b[0;36mtime\u001b[0;34m(self, line, cell, local_ns)\u001b[0m\n",
      "\u001b[0;32m/usr/local/lib/python3.4/dist-packages/IPython/core/magic.py\u001b[0m in \u001b[0;36m<lambda>\u001b[0;34m(f, *a, **k)\u001b[0m\n\u001b[1;32m    186\u001b[0m     \u001b[0;31m# but it's overkill for just that one bit of state.\u001b[0m\u001b[0;34m\u001b[0m\u001b[0;34m\u001b[0m\u001b[0m\n\u001b[1;32m    187\u001b[0m     \u001b[0;32mdef\u001b[0m \u001b[0mmagic_deco\u001b[0m\u001b[0;34m(\u001b[0m\u001b[0marg\u001b[0m\u001b[0;34m)\u001b[0m\u001b[0;34m:\u001b[0m\u001b[0;34m\u001b[0m\u001b[0m\n\u001b[0;32m--> 188\u001b[0;31m         \u001b[0mcall\u001b[0m \u001b[0;34m=\u001b[0m \u001b[0;32mlambda\u001b[0m \u001b[0mf\u001b[0m\u001b[0;34m,\u001b[0m \u001b[0;34m*\u001b[0m\u001b[0ma\u001b[0m\u001b[0;34m,\u001b[0m \u001b[0;34m**\u001b[0m\u001b[0mk\u001b[0m\u001b[0;34m:\u001b[0m \u001b[0mf\u001b[0m\u001b[0;34m(\u001b[0m\u001b[0;34m*\u001b[0m\u001b[0ma\u001b[0m\u001b[0;34m,\u001b[0m \u001b[0;34m**\u001b[0m\u001b[0mk\u001b[0m\u001b[0;34m)\u001b[0m\u001b[0;34m\u001b[0m\u001b[0m\n\u001b[0m\u001b[1;32m    189\u001b[0m \u001b[0;34m\u001b[0m\u001b[0m\n\u001b[1;32m    190\u001b[0m         \u001b[0;32mif\u001b[0m \u001b[0mcallable\u001b[0m\u001b[0;34m(\u001b[0m\u001b[0marg\u001b[0m\u001b[0;34m)\u001b[0m\u001b[0;34m:\u001b[0m\u001b[0;34m\u001b[0m\u001b[0m\n",
      "\u001b[0;32m/usr/local/lib/python3.4/dist-packages/IPython/core/magics/execution.py\u001b[0m in \u001b[0;36mtime\u001b[0;34m(self, line, cell, local_ns)\u001b[0m\n\u001b[1;32m   1174\u001b[0m         \u001b[0;32melse\u001b[0m\u001b[0;34m:\u001b[0m\u001b[0;34m\u001b[0m\u001b[0m\n\u001b[1;32m   1175\u001b[0m             \u001b[0mst\u001b[0m \u001b[0;34m=\u001b[0m \u001b[0mclock2\u001b[0m\u001b[0;34m(\u001b[0m\u001b[0;34m)\u001b[0m\u001b[0;34m\u001b[0m\u001b[0m\n\u001b[0;32m-> 1176\u001b[0;31m             \u001b[0mexec\u001b[0m\u001b[0;34m(\u001b[0m\u001b[0mcode\u001b[0m\u001b[0;34m,\u001b[0m \u001b[0mglob\u001b[0m\u001b[0;34m,\u001b[0m \u001b[0mlocal_ns\u001b[0m\u001b[0;34m)\u001b[0m\u001b[0;34m\u001b[0m\u001b[0m\n\u001b[0m\u001b[1;32m   1177\u001b[0m             \u001b[0mend\u001b[0m \u001b[0;34m=\u001b[0m \u001b[0mclock2\u001b[0m\u001b[0;34m(\u001b[0m\u001b[0;34m)\u001b[0m\u001b[0;34m\u001b[0m\u001b[0m\n\u001b[1;32m   1178\u001b[0m             \u001b[0mout\u001b[0m \u001b[0;34m=\u001b[0m \u001b[0;32mNone\u001b[0m\u001b[0;34m\u001b[0m\u001b[0m\n",
      "\u001b[0;32m<timed exec>\u001b[0m in \u001b[0;36m<module>\u001b[0;34m()\u001b[0m\n",
      "\u001b[0;32m/home/xilinx/jupyter_notebooks/PYNQ_CNN/Theano/CIFAR_10/conv_fpga.py\u001b[0m in \u001b[0;36mFPGAQuickTest\u001b[0;34m(test_data, batch_size, OFMDim, OFMCH)\u001b[0m\n\u001b[1;32m    294\u001b[0m     \u001b[0minput_val\u001b[0m \u001b[0;34m=\u001b[0m \u001b[0mnp\u001b[0m\u001b[0;34m.\u001b[0m\u001b[0mappend\u001b[0m\u001b[0;34m(\u001b[0m\u001b[0;34m[\u001b[0m\u001b[0;36m0\u001b[0m\u001b[0;34m,\u001b[0m \u001b[0mbatch_size\u001b[0m\u001b[0;34m,\u001b[0m \u001b[0;36m5\u001b[0m\u001b[0;34m,\u001b[0m \u001b[0;36m1\u001b[0m\u001b[0;34m,\u001b[0m \u001b[0;36m28\u001b[0m\u001b[0;34m,\u001b[0m \u001b[0;36m10\u001b[0m\u001b[0;34m,\u001b[0m \u001b[0;36m1\u001b[0m\u001b[0;34m,\u001b[0m \u001b[0;36m2\u001b[0m\u001b[0;34m]\u001b[0m\u001b[0;34m,\u001b[0m \u001b[0minput_val\u001b[0m\u001b[0;34m)\u001b[0m\u001b[0;34m\u001b[0m\u001b[0m\n\u001b[1;32m    295\u001b[0m     \u001b[0minput_val\u001b[0m \u001b[0;34m=\u001b[0m \u001b[0minput_val\u001b[0m\u001b[0;34m.\u001b[0m\u001b[0mastype\u001b[0m\u001b[0;34m(\u001b[0m\u001b[0mint\u001b[0m\u001b[0;34m)\u001b[0m\u001b[0;34m\u001b[0m\u001b[0m\n\u001b[0;32m--> 296\u001b[0;31m     \u001b[0moutput_fpga\u001b[0m \u001b[0;34m=\u001b[0m \u001b[0mdouble\u001b[0m\u001b[0;34m(\u001b[0m\u001b[0minput_val\u001b[0m\u001b[0;34m)\u001b[0m\u001b[0;34m.\u001b[0m\u001b[0mhw_value\u001b[0m\u001b[0;34m(\u001b[0m\u001b[0;34m)\u001b[0m\u001b[0;34m\u001b[0m\u001b[0m\n\u001b[0m\u001b[1;32m    297\u001b[0m     \u001b[0;31m#output_mat_tmp = output_fpga[8:].reshape(batch_size, OFMDim*OFMDim, OFMCH)\u001b[0m\u001b[0;34m\u001b[0m\u001b[0;34m\u001b[0m\u001b[0m\n\u001b[1;32m    298\u001b[0m     \u001b[0;31m#output_mat_tmp = output_mat_tmp.transpose(0, 2, 1)\u001b[0m\u001b[0;34m\u001b[0m\u001b[0;34m\u001b[0m\u001b[0m\n",
      "\u001b[0;32m/home/xilinx/jupyter_notebooks/PYNQ_CNN/Theano/CIFAR_10/conv_fpga.py\u001b[0m in \u001b[0;36mhw_value\u001b[0;34m(self)\u001b[0m\n\u001b[1;32m     38\u001b[0m \u001b[0;34m\u001b[0m\u001b[0m\n\u001b[1;32m     39\u001b[0m   \u001b[0;32mdef\u001b[0m \u001b[0mhw_value\u001b[0m\u001b[0;34m(\u001b[0m\u001b[0mself\u001b[0m\u001b[0;34m)\u001b[0m\u001b[0;34m:\u001b[0m\u001b[0;34m\u001b[0m\u001b[0m\n\u001b[0;32m---> 40\u001b[0;31m     \u001b[0;32mreturn\u001b[0m \u001b[0mexecute_hardware\u001b[0m\u001b[0;34m(\u001b[0m\u001b[0mself\u001b[0m\u001b[0;34m)\u001b[0m\u001b[0;34m\u001b[0m\u001b[0m\n\u001b[0m\u001b[1;32m     41\u001b[0m \u001b[0;34m\u001b[0m\u001b[0m\n\u001b[1;32m     42\u001b[0m   \u001b[0;32mdef\u001b[0m \u001b[0m__str__\u001b[0m\u001b[0;34m(\u001b[0m\u001b[0mself\u001b[0m\u001b[0;34m)\u001b[0m\u001b[0;34m:\u001b[0m\u001b[0;34m\u001b[0m\u001b[0m\n",
      "\u001b[0;32m/home/xilinx/jupyter_notebooks/PYNQ_CNN/Theano/CIFAR_10/conv_fpga.py\u001b[0m in \u001b[0;36mexecute_hardware\u001b[0;34m(plan)\u001b[0m\n\u001b[1;32m    181\u001b[0m   \u001b[0mend_time\u001b[0m \u001b[0;34m=\u001b[0m \u001b[0mtime\u001b[0m\u001b[0;34m.\u001b[0m\u001b[0mprocess_time\u001b[0m\u001b[0;34m(\u001b[0m\u001b[0;34m)\u001b[0m\u001b[0;34m\u001b[0m\u001b[0m\n\u001b[1;32m    182\u001b[0m   \u001b[0mprint\u001b[0m\u001b[0;34m(\u001b[0m\u001b[0;34m\"Elapsed Test Time: \"\u001b[0m\u001b[0;34m,\u001b[0m \u001b[0mend_time\u001b[0m\u001b[0;34m-\u001b[0m\u001b[0mstart_time\u001b[0m\u001b[0;34m)\u001b[0m\u001b[0;34m\u001b[0m\u001b[0m\n\u001b[0;32m--> 183\u001b[0;31m   \u001b[0mret_dma\u001b[0m\u001b[0;34m.\u001b[0m\u001b[0mwait\u001b[0m\u001b[0;34m(\u001b[0m\u001b[0;34m)\u001b[0m\u001b[0;34m\u001b[0m\u001b[0m\n\u001b[0m\u001b[1;32m    184\u001b[0m   \u001b[0mbytes_read\u001b[0m\u001b[0;34m=\u001b[0m\u001b[0mret_dma_mmio\u001b[0m\u001b[0;34m.\u001b[0m\u001b[0mread\u001b[0m\u001b[0;34m(\u001b[0m\u001b[0;36m0x58\u001b[0m\u001b[0;34m)\u001b[0m\u001b[0;34m\u001b[0m\u001b[0m\n\u001b[1;32m    185\u001b[0m   \u001b[0mffi\u001b[0m\u001b[0;34m=\u001b[0m\u001b[0mpynq\u001b[0m\u001b[0;34m.\u001b[0m\u001b[0mdrivers\u001b[0m\u001b[0;34m.\u001b[0m\u001b[0mdma\u001b[0m\u001b[0;34m.\u001b[0m\u001b[0mffi\u001b[0m\u001b[0;34m\u001b[0m\u001b[0m\n",
      "\u001b[0;32m/usr/local/lib/python3.4/dist-packages/pynq/drivers/dma.py\u001b[0m in \u001b[0;36mwait\u001b[0;34m(self, wait_timeout)\u001b[0m\n\u001b[1;32m    439\u001b[0m         \u001b[0;32mwith\u001b[0m \u001b[0mtimeout\u001b[0m\u001b[0;34m(\u001b[0m\u001b[0mseconds\u001b[0m \u001b[0;34m=\u001b[0m \u001b[0mwait_timeout\u001b[0m\u001b[0;34m,\u001b[0m \u001b[0merror_message\u001b[0m \u001b[0;34m=\u001b[0m \u001b[0mError\u001b[0m\u001b[0;34m)\u001b[0m\u001b[0;34m:\u001b[0m\u001b[0;34m\u001b[0m\u001b[0m\n\u001b[1;32m    440\u001b[0m             \u001b[0;32mwhile\u001b[0m \u001b[0;32mTrue\u001b[0m\u001b[0;34m:\u001b[0m\u001b[0;34m\u001b[0m\u001b[0m\n\u001b[0;32m--> 441\u001b[0;31m                 \u001b[0;32mif\u001b[0m \u001b[0mlibdma\u001b[0m\u001b[0;34m.\u001b[0m\u001b[0mXAxiDma_Busy\u001b[0m\u001b[0;34m(\u001b[0m\u001b[0mself\u001b[0m\u001b[0;34m.\u001b[0m\u001b[0mDMAengine\u001b[0m\u001b[0;34m,\u001b[0m\u001b[0mself\u001b[0m\u001b[0;34m.\u001b[0m\u001b[0mdirection\u001b[0m\u001b[0;34m)\u001b[0m \u001b[0;34m==\u001b[0m \u001b[0;36m0\u001b[0m\u001b[0;34m:\u001b[0m\u001b[0;34m\u001b[0m\u001b[0m\n\u001b[0m\u001b[1;32m    442\u001b[0m                     \u001b[0;32mbreak\u001b[0m\u001b[0;34m\u001b[0m\u001b[0m\n\u001b[1;32m    443\u001b[0m \u001b[0;34m\u001b[0m\u001b[0m\n",
      "\u001b[0;32m/usr/local/lib/python3.4/dist-packages/pynq/drivers/dma.py\u001b[0m in \u001b[0;36mhandle_timeout\u001b[0;34m(self, signum, frame)\u001b[0m\n\u001b[1;32m    173\u001b[0m \u001b[0;34m\u001b[0m\u001b[0m\n\u001b[1;32m    174\u001b[0m     \u001b[0;32mdef\u001b[0m \u001b[0mhandle_timeout\u001b[0m\u001b[0;34m(\u001b[0m\u001b[0mself\u001b[0m\u001b[0;34m,\u001b[0m \u001b[0msignum\u001b[0m\u001b[0;34m,\u001b[0m \u001b[0mframe\u001b[0m\u001b[0;34m)\u001b[0m\u001b[0;34m:\u001b[0m\u001b[0;34m\u001b[0m\u001b[0m\n\u001b[0;32m--> 175\u001b[0;31m         \u001b[0;32mraise\u001b[0m \u001b[0mTimeoutError\u001b[0m\u001b[0;34m(\u001b[0m\u001b[0mself\u001b[0m\u001b[0;34m.\u001b[0m\u001b[0merror_message\u001b[0m\u001b[0;34m)\u001b[0m\u001b[0;34m\u001b[0m\u001b[0m\n\u001b[0m\u001b[1;32m    176\u001b[0m \u001b[0;34m\u001b[0m\u001b[0m\n\u001b[1;32m    177\u001b[0m     \u001b[0;32mdef\u001b[0m \u001b[0m__enter__\u001b[0m\u001b[0;34m(\u001b[0m\u001b[0mself\u001b[0m\u001b[0;34m)\u001b[0m\u001b[0;34m:\u001b[0m\u001b[0;34m\u001b[0m\u001b[0m\n",
      "\u001b[0;31mTimeoutError\u001b[0m: DMA wait timed out."
     ]
    }
   ],
   "source": [
    "batch_size = 2\n",
    "\n",
    "OFMDim = 1\n",
    "OFMCH = 10\n",
    "%time FPGA_output = FPGAQuickTest(data_zeromean*0.85, batch_size, OFMDim, OFMCH)\n",
    "FPGA_predicted = np.argmax(FPGA_output.reshape(batch_size, -1), 1)\n",
    "#np.save('FPGA_output', FPGA_output)"
   ]
  },
  {
   "cell_type": "code",
   "execution_count": 27,
   "metadata": {
    "collapsed": false
   },
   "outputs": [
    {
     "name": "stdout",
     "output_type": "stream",
     "text": [
      "0.53\n"
     ]
    }
   ],
   "source": [
    "FPGA_accuracy = np.mean(FPGA_predicted == data['labels'][0:batch_size])\n",
    "print(FPGA_accuracy)"
   ]
  },
  {
   "cell_type": "markdown",
   "metadata": {},
   "source": [
    "### Testbench: Check output for each layer"
   ]
  },
  {
   "cell_type": "code",
   "execution_count": 58,
   "metadata": {
    "collapsed": false
   },
   "outputs": [
    {
     "name": "stdout",
     "output_type": "stream",
     "text": [
      "upper bound 9.44879023774\n",
      "lower bound -6.40481699552\n",
      "(1, 10)\n",
      "[[-0.35958596 -6.404817    0.11735196  9.44879024  1.85489804  7.99725445\n",
      "   1.80384364  2.411506    1.85896584 -3.1019715 ]]\n"
     ]
    }
   ],
   "source": [
    "conv_output = lasagne.layers.get_output(net['ip2'], floatX(data['raw'][0:1]), deterministic=True).eval()\n",
    "print('upper bound', np.amax(conv_output))\n",
    "print('lower bound', np.amin(conv_output))\n",
    "print(conv_output.shape)\n",
    "print(conv_output)\n",
    "# np.allclose(FPGA_output, conv_output)\n",
    "# np.save('cpu_output', conv_output)"
   ]
  },
  {
   "cell_type": "code",
   "execution_count": 18,
   "metadata": {
    "collapsed": false
   },
   "outputs": [
    {
     "name": "stdout",
     "output_type": "stream",
     "text": [
      "A [[[-1.44444444]]\n",
      "\n",
      " [[-4.11111111]]\n",
      "\n",
      " [[-1.05555556]]\n",
      "\n",
      " [[-1.5       ]]\n",
      "\n",
      " [[ 9.5       ]]\n",
      "\n",
      " [[-3.33333333]]\n",
      "\n",
      " [[-1.83333333]]\n",
      "\n",
      " [[-1.        ]]\n",
      "\n",
      " [[ 0.94444444]]\n",
      "\n",
      " [[ 5.16666667]]]\n",
      "B [ -2.20250484  -5.73974968  -2.03936998  -2.61254005  13.50087001\n",
      "  -4.67510671  -2.59636619  -0.8826095    1.86436696   7.05478231]\n"
     ]
    },
    {
     "data": {
      "text/plain": [
       "False"
      ]
     },
     "execution_count": 18,
     "metadata": {},
     "output_type": "execute_result"
    }
   ],
   "source": [
    "A = np.load('FPGA_output.npy')\n",
    "B = np.load('cpu_output.npy')\n",
    "print('A',A[4])\n",
    "print('B',B[4])\n",
    "np.allclose(A,B)\n",
    "#print(np.amax(B))"
   ]
  },
  {
   "cell_type": "code",
   "execution_count": 23,
   "metadata": {
    "collapsed": false
   },
   "outputs": [
    {
     "name": "stdout",
     "output_type": "stream",
     "text": [
      "weight shape (20, 1, 5, 5)\n",
      "input shape (1, 1, 28, 28)\n",
      "[[[[ -1.23521651e+00  -2.04537287e+00  -6.32075214e-01 ...,\n",
      "     -1.63300213e+00  -2.55450387e+00  -2.07054086e+00]\n",
      "   [ -1.40137811e+00  -1.77353978e+00  -1.84130565e+00 ...,\n",
      "     -1.33434864e+00  -2.22999067e+00  -2.42328846e+00]\n",
      "   [ -1.26774366e+00  -1.71084404e+00  -1.31209231e+00 ...,\n",
      "     -2.24487298e+00  -2.73626462e+00  -1.29489929e+00]\n",
      "   ..., \n",
      "   [ -1.62035386e+00  -7.08239809e-01  -2.27327630e+00 ...,\n",
      "     -1.44700859e+00  -3.67266482e+00  -3.81733384e+00]\n",
      "   [ -2.17358027e+00  -1.13402332e+00  -3.92598738e-03 ...,\n",
      "     -2.06156307e+00  -1.44563193e+00  -2.10430690e+00]\n",
      "   [ -1.27752032e+00  -1.06594470e+00  -1.12218224e+00 ...,\n",
      "     -1.30819874e-01  -1.01351195e+00  -1.54660986e+00]]\n",
      "\n",
      "  [[ -2.60145689e-01  -5.13031884e-02   1.01291686e+00 ...,\n",
      "      8.97090336e-01   6.42144868e-01   1.94622497e-01]\n",
      "   [ -1.03464390e+00  -1.08955611e-01   4.27987106e-02 ...,\n",
      "      2.66289295e-01  -8.85309893e-02   4.17684471e-01]\n",
      "   [ -5.75026525e-01   9.64486380e-01  -2.50498932e-01 ...,\n",
      "     -1.69981671e-01   3.83626229e-02  -4.29510827e-01]\n",
      "   ..., \n",
      "   [ -5.05453794e-01  -8.63296574e-01  -9.17132820e-02 ...,\n",
      "      3.77458619e-01  -1.95137555e-01  -5.17759730e-01]\n",
      "   [ -2.58788723e-01  -9.64247429e-01  -7.14861086e-02 ...,\n",
      "     -1.42263971e-01   1.91776053e-01   5.46139432e-01]\n",
      "   [ -2.64195517e-01   6.57731518e-01   9.02944947e-02 ...,\n",
      "     -3.68829995e-01   3.83041570e-01  -2.01499939e-01]]\n",
      "\n",
      "  [[ -3.65994417e+00  -5.14173995e+00  -4.96577030e+00 ...,\n",
      "     -4.51097770e+00  -4.49018481e+00  -4.99095697e+00]\n",
      "   [ -4.11705978e+00  -3.84009698e+00  -4.76372528e+00 ...,\n",
      "     -5.18592852e+00  -5.22249345e+00  -4.80849165e+00]\n",
      "   [ -3.97032701e+00  -3.38993575e+00  -4.60564690e+00 ...,\n",
      "     -3.40043616e+00  -4.73042337e+00  -5.62832834e+00]\n",
      "   ..., \n",
      "   [ -4.71954725e+00  -2.77478101e+00  -1.26896644e+00 ...,\n",
      "     -3.80103310e+00  -3.90681893e+00  -3.88966040e+00]\n",
      "   [ -4.00748279e+00  -3.81785394e+00  -4.35615060e+00 ...,\n",
      "     -4.77401208e+00  -5.17462886e+00  -4.66860414e+00]\n",
      "   [ -3.03090842e+00  -1.37022436e+00  -2.61072677e+00 ...,\n",
      "     -3.64930527e+00  -3.39860399e+00  -3.79809401e+00]]\n",
      "\n",
      "  ..., \n",
      "  [[ -1.68899562e-01  -4.70391744e-01  -6.97371397e-01 ...,\n",
      "     -5.28510538e-01  -8.69725970e-01  -9.40058672e-01]\n",
      "   [ -1.13698729e-01  -2.39520724e-01  -1.05513776e+00 ...,\n",
      "      1.89672299e-02  -5.85293545e-01  -1.24348531e+00]\n",
      "   [  4.84735384e-01  -2.85855296e-01  -2.31752558e-01 ...,\n",
      "      2.45801093e-01  -1.48229439e+00  -3.27884453e-01]\n",
      "   ..., \n",
      "   [ -1.15616940e+00  -3.67509939e-01  -1.53234489e+00 ...,\n",
      "      3.00053739e-01  -2.14880543e+00  -1.62754632e-01]\n",
      "   [  3.90369861e-01  -1.21054544e+00  -2.43554270e-02 ...,\n",
      "     -1.52735065e+00   1.01189873e+00  -9.24407381e-01]\n",
      "   [ -6.92695001e-01   7.25373323e-01  -4.75248336e-01 ...,\n",
      "      8.00767456e-01   1.86470517e-01  -1.68280526e+00]]\n",
      "\n",
      "  [[  1.00908039e+00   1.18807713e+00   1.30922008e+00 ...,\n",
      "      1.39107018e+00   2.26549537e+00   2.93546801e+00]\n",
      "   [  3.13643280e+00   1.43321484e+00   1.99360973e+00 ...,\n",
      "      1.85552427e+00   9.63954788e-01   1.18764058e+00]\n",
      "   [  1.73749805e+00   2.13676041e+00   2.66441862e+00 ...,\n",
      "      2.95361881e+00   2.92212581e+00   2.39243630e+00]\n",
      "   ..., \n",
      "   [  2.37215457e+00   5.14820833e-01   1.65617652e-01 ...,\n",
      "      1.73166437e+00   1.92869916e+00   2.61471371e+00]\n",
      "   [  2.93004702e+00   1.20636201e+00   1.77732324e+00 ...,\n",
      "      1.48198130e+00   1.97564921e+00   1.10872634e+00]\n",
      "   [  8.97655375e-01   1.19172669e+00   1.02551056e+00 ...,\n",
      "      1.31002310e+00   1.73514415e+00   4.43609674e-01]]\n",
      "\n",
      "  [[  1.56064707e-01   4.11192449e-02  -1.37242171e+00 ...,\n",
      "      2.52051019e-01  -3.18872694e-01  -7.55935752e-01]\n",
      "   [  1.35216298e-01   6.02522093e-01   7.14582454e-01 ...,\n",
      "      2.80997509e-01  -2.69425698e-01   1.67536314e+00]\n",
      "   [  9.27890678e-01   1.72920391e+00   5.26195342e-01 ...,\n",
      "      1.34184756e+00   1.13691001e+00  -9.60607615e-01]\n",
      "   ..., \n",
      "   [  2.85855771e-01  -5.08133719e-01   1.19018943e-01 ...,\n",
      "      1.65176111e-01   7.94100231e-01   5.13618884e-01]\n",
      "   [  9.61006454e-01   1.08911135e+00  -6.81093900e-02 ...,\n",
      "     -8.57343171e-02  -9.72893105e-02  -1.80669722e-01]\n",
      "   [  8.79052882e-01  -4.41791561e-01   1.12758501e+00 ...,\n",
      "      1.81297062e+00  -1.18995210e+00  -6.84469087e-02]]]]\n",
      "max 4.78987174592\n",
      "min -6.67566047666\n",
      "##############################\n",
      "weight shape (20, 1, 5, 5)\n",
      "kermax 0.996485495516\n",
      "kermin -0.998557337864\n",
      "[[[[-1.16666667 -1.96666667 -0.5        ..., -1.56666667 -2.43333333\n",
      "    -1.96666667]\n",
      "   [-1.3        -1.63333333 -1.7        ..., -1.2        -2.13333333\n",
      "    -2.33333333]\n",
      "   [-1.13333333 -1.63333333 -1.23333333 ..., -2.16666667 -2.63333333 -1.2       ]\n",
      "   ..., \n",
      "   [-1.56666667 -0.6        -2.13333333 ..., -1.36666667 -3.56666667\n",
      "    -3.66666667]\n",
      "   [-2.06666667 -1.03333333  0.         ..., -2.         -1.3        -2.03333333]\n",
      "   [-1.23333333 -1.03333333 -1.03333333 ..., -0.06666667 -0.96666667\n",
      "    -1.43333333]]\n",
      "\n",
      "  [[-0.23333333 -0.06666667  0.96666667 ...,  0.86666667  0.63333333\n",
      "     0.16666667]\n",
      "   [-1.03333333 -0.1         0.03333333 ...,  0.23333333 -0.03333333  0.4       ]\n",
      "   [-0.53333333  0.93333333 -0.23333333 ..., -0.13333333  0.03333333\n",
      "    -0.43333333]\n",
      "   ..., \n",
      "   [-0.5        -0.83333333 -0.06666667 ...,  0.33333333 -0.16666667 -0.5       ]\n",
      "   [-0.23333333 -0.9        -0.06666667 ..., -0.13333333  0.16666667\n",
      "     0.53333333]\n",
      "   [-0.26666667  0.6         0.06666667 ..., -0.33333333  0.36666667 -0.2       ]]\n",
      "\n",
      "  [[-3.46666667 -4.93333333 -4.73333333 ..., -4.33333333 -4.26666667\n",
      "    -4.76666667]\n",
      "   [-3.96666667 -3.66666667 -4.56666667 ..., -5.         -5.03333333\n",
      "    -4.63333333]\n",
      "   [-3.73333333 -3.13333333 -4.36666667 ..., -3.16666667 -4.5        -5.43333333]\n",
      "   ..., \n",
      "   [-4.53333333 -2.6        -1.13333333 ..., -3.6        -3.7        -3.66666667]\n",
      "   [-3.83333333 -3.63333333 -4.13333333 ..., -4.56666667 -4.96666667\n",
      "    -4.46666667]\n",
      "   [-2.8        -1.23333333 -2.5        ..., -3.46666667 -3.2        -3.6       ]]\n",
      "\n",
      "  ..., \n",
      "  [[-0.13333333 -0.46666667 -0.66666667 ..., -0.53333333 -0.83333333 -0.9       ]\n",
      "   [-0.06666667 -0.2        -1.         ...,  0.03333333 -0.56666667\n",
      "    -1.23333333]\n",
      "   [ 0.46666667 -0.26666667 -0.2        ...,  0.2        -1.43333333 -0.3       ]\n",
      "   ..., \n",
      "   [-1.2        -0.33333333 -1.46666667 ...,  0.3        -2.06666667 -0.1       ]\n",
      "   [ 0.36666667 -1.16666667 -0.03333333 ..., -1.56666667  1.03333333 -0.9       ]\n",
      "   [-0.66666667  0.7        -0.36666667 ...,  0.76666667  0.2        -1.66666667]]\n",
      "\n",
      "  [[ 0.9         1.1         1.2        ...,  1.33333333  2.16666667\n",
      "     2.83333333]\n",
      "   [ 3.03333333  1.33333333  1.9        ...,  1.73333333  0.9         1.13333333]\n",
      "   [ 1.63333333  2.06666667  2.6        ...,  2.86666667  2.83333333\n",
      "     2.33333333]\n",
      "   ..., \n",
      "   [ 2.3         0.5         0.1        ...,  1.6         1.86666667\n",
      "     2.53333333]\n",
      "   [ 2.83333333  1.13333333  1.7        ...,  1.36666667  1.9         1.03333333]\n",
      "   [ 0.8         1.13333333  0.96666667 ...,  1.2         1.66666667\n",
      "     0.36666667]]\n",
      "\n",
      "  [[ 0.16666667  0.03333333 -1.4        ...,  0.23333333 -0.33333333\n",
      "    -0.73333333]\n",
      "   [ 0.1         0.6         0.7        ...,  0.26666667 -0.23333333\n",
      "     1.66666667]\n",
      "   [ 0.96666667  1.7         0.53333333 ...,  1.33333333  1.1        -0.93333333]\n",
      "   ..., \n",
      "   [ 0.26666667 -0.5         0.1        ...,  0.1         0.83333333  0.5       ]\n",
      "   [ 0.86666667  1.06666667  0.         ..., -0.1        -0.1        -0.13333333]\n",
      "   [ 0.86666667 -0.43333333  1.06666667 ...,  1.8        -1.13333333\n",
      "    -0.06666667]]]]\n",
      "max 4.73333333333\n",
      "min -6.53333333333\n"
     ]
    },
    {
     "data": {
      "text/plain": [
       "False"
      ]
     },
     "execution_count": 23,
     "metadata": {},
     "output_type": "execute_result"
    }
   ],
   "source": [
    "## Testbench for a single conv layer\n",
    "net1 = {}\n",
    "net1['input_1'] = InputLayer((None, 1, 28, 28))\n",
    "net1['conv_1'] = ConvLayer(net1['input_1'], num_filters=20, filter_size=5, pad=0, nonlinearity=linear)\n",
    "weight = np.random.rand(20, 1, 5, 5)*2-1\n",
    "#weight = weight[...,::-1,::-1]\n",
    "print('weight shape',weight.shape)\n",
    "\n",
    "net1['conv_1'].W.set_value(weight)\n",
    "input = np.random.rand(1, 1, 28, 28)\n",
    "print('input shape',input.shape)\n",
    "conv_output_test = lasagne.layers.get_output(net1['conv_1'], floatX(input), deterministic=True).eval()\n",
    "print(conv_output_test)\n",
    "print('max', np.amax(conv_output_test))\n",
    "print('min', np.amin(conv_output_test))\n",
    "print('##############################')\n",
    "FPGALoadW(weight, 1, 28, 24, 0)\n",
    "FPGA_output = FPGAQuickTest(input, 1, 24, 20)\n",
    "print(FPGA_output)\n",
    "print('max', np.amax(FPGA_output))\n",
    "print('min', np.amin(FPGA_output))\n",
    "np.allclose(conv_output_test, FPGA_output)"
   ]
  },
  {
   "cell_type": "code",
   "execution_count": 7,
   "metadata": {
    "collapsed": false
   },
   "outputs": [
    {
     "name": "stdout",
     "output_type": "stream",
     "text": [
      "[[  4.87205496   0.           0.           0.          10.32939182   0.\n",
      "    3.73065467   0.           3.32166961   8.04596126   2.47765243\n",
      "    2.38071792   0.           0.          10.23824185  11.37844921   0.\n",
      "    2.49904565   6.67317322   7.72101975   0.          16.22842281\n",
      "    4.21925851   1.71412087  13.86398149   0.           6.47131831   0.\n",
      "    0.           0.          11.01161799  16.50425193  10.09142138   0.\n",
      "    8.71200305   0.          17.73560793   7.26002949   0.           0.\n",
      "    0.           0.           0.           3.64882534   8.84798804\n",
      "    0.51790838   0.          12.24283568   0.          10.07998283   0.\n",
      "   13.93915632   0.           1.31342381   2.37565862   0.18018827\n",
      "   15.77413368   0.           0.           3.52941475   4.3752688\n",
      "    0.96245774   5.99787461   0.           0.           0.           7.57239814\n",
      "   11.34722104   0.           7.44900567   8.85447856   0.           3.63706984\n",
      "    4.4351584    6.1741987    5.12098359   0.           0.           0.54486455\n",
      "    0.           2.34716758  11.65961668  14.37530636   2.73037676   0.\n",
      "   11.02818577   0.           1.05222788   0.           0.           0.\n",
      "   11.79985969   0.           2.18722952   8.07016441   0.           0.48128377\n",
      "    0.42685334   0.           0.           0.           7.97839663   0.\n",
      "    0.           0.58764638   8.87131068   0.          15.18896369   0.\n",
      "    0.           5.69908405   0.           0.           0.           0.\n",
      "    0.           8.1806746   10.6865666    5.4502488    0.          15.43516532\n",
      "   11.31803067   0.          15.8883904    0.           0.           0.\n",
      "    0.           0.           0.           0.           3.36289894\n",
      "   10.05100219   0.           0.           0.           0.           1.36648831\n",
      "    0.           2.34897277   0.           0.           0.16635098\n",
      "    2.03511467   0.           0.           0.82106747   0.          13.56543568\n",
      "    5.50418203   0.           6.48636786  14.66925314   0.           0.\n",
      "    9.72713839   4.6732693    0.66350285   6.13598948   0.           0.\n",
      "    0.           0.           7.71326117  21.66236202   6.07559027\n",
      "   11.30994027   0.03813952   0.           4.55986687   0.36733798\n",
      "   18.66398918   0.           5.73153027   0.           6.62628006   0.\n",
      "    0.           4.79217688   3.05292392   5.97852612   2.73634945   0.\n",
      "    0.           0.          11.81853997   0.           6.1895648    0.\n",
      "    0.           0.           0.          10.3059492    5.61476791\n",
      "    4.7638238    8.01105809   1.1456242    5.62021886   0.           0.38868603\n",
      "    1.33126799   0.42378301   0.           0.          12.38176997\n",
      "   10.35476552   0.           0.           0.          14.59775052   0.\n",
      "    0.           0.           5.85772319   0.           0.           0.\n",
      "    0.           0.78042736   0.           2.98850167   4.02550251\n",
      "    8.51495478   0.           0.           0.           0.           0.\n",
      "   13.9854325   11.85832479   0.           0.           9.23101527   0.\n",
      "   11.75796767   5.35753142   1.41690737  11.95718263  17.79470972\n",
      "    9.28500759   0.           0.           0.21147603   2.15857456   0.\n",
      "    0.          19.0844405   22.15722801   0.           4.17137518   0.\n",
      "    6.92154393   1.69509028  18.6839166    5.69489588   0.           0.\n",
      "    0.          11.88879818   5.15587561   0.          12.85335112\n",
      "    3.70553621   0.           0.           5.64413022   6.60557047\n",
      "    3.96497751   0.           4.60287163   0.           0.58812798   0.\n",
      "   11.1157155    0.           0.           0.           9.8155275    0.\n",
      "    0.          16.20489183   0.           0.           4.14233276   0.\n",
      "    4.34341638   8.46896904   0.           8.37185049  10.31071701   0.\n",
      "    0.10688457   0.           5.97306068   0.           4.89753857   0.\n",
      "    9.26196222   0.           9.58950062  13.38471899   2.16669255   0.\n",
      "    5.34838811   6.96073294   0.           0.           0.          15.08913938\n",
      "    2.51803672   7.88308158  12.21421887  10.20202114  10.73308962\n",
      "    3.52093679   0.           4.47425126   7.85916816   0.           0.\n",
      "    6.90158195   8.29529849   0.           0.           0.           0.\n",
      "   17.66852546   0.           0.           2.93399414   0.           0.\n",
      "    5.09620742   0.           0.           7.2849421    0.           0.\n",
      "    0.          10.18709824   2.5744383    0.           4.08406648   0.\n",
      "    6.83491966   9.35418875   0.           0.           0.           0.\n",
      "    4.95455747   0.           5.09100722   0.           8.41360688   0.\n",
      "    8.46274502   0.           6.89214509   6.67986715   0.           0.\n",
      "    0.           0.           2.28805299   0.           8.28019421\n",
      "   12.75343376   0.           0.           2.51653061   0.           0.82721538\n",
      "    0.           8.91417208   0.           5.68516714   3.11026239\n",
      "    7.29585777   0.           2.14074919   9.47591846   0.           0.\n",
      "   14.82286938   0.           0.           0.           0.           7.88781567\n",
      "   10.51508377   0.           0.           0.45894944   3.59168604   0.\n",
      "   14.03073171   6.76643939   0.           3.1323703   12.24137663\n",
      "    2.94689514   0.           0.           0.           7.25376755\n",
      "    3.42208125  19.07386738   0.           9.51545039   0.           0.\n",
      "   13.94424881  10.40733373   0.           0.           0.           0.\n",
      "    3.17219076   0.           5.35096481  10.96430379  11.77482422\n",
      "   11.30419229   0.           0.           0.          19.08975336\n",
      "    6.08621084   4.37618314   0.           1.98863682   7.90072457\n",
      "   11.825676     0.           0.28749063   0.           0.           0.\n",
      "    0.           0.           0.           6.91871997  15.02426763\n",
      "    3.41454367   6.40912401  11.50653594   0.           0.           0.31042584\n",
      "    0.           0.           3.18485489   0.           0.           0.\n",
      "    0.           0.           1.73935809   0.           4.51500803\n",
      "    9.51558738   4.15108236   4.26826456   0.           1.67253442\n",
      "    5.32168599   0.           4.73830834   0.           1.47740501   0.\n",
      "    0.           0.           0.           0.           0.          12.76195807\n",
      "    0.           0.           0.03329534   0.           0.48526704   0.\n",
      "    0.           3.19732557  20.76907562   0.           0.           1.19507225\n",
      "    0.           0.           3.39872442   0.           3.65393208\n",
      "   14.42782519  12.05240166   0.           0.           9.11073052]]\n",
      "max 22.157228007\n",
      "min 0.0\n",
      "##############################\n",
      "weight shape (500, 50, 4, 4)\n",
      "kermax 0.999999553699\n",
      "kermin -0.999996939193\n",
      "[[  4.8203125   0.          0.          0.         10.1328125   0.\n",
      "    3.7265625   0.          3.296875    8.0234375   2.421875    2.4765625\n",
      "    0.          0.         10.046875   11.3359375   0.          2.4765625\n",
      "    6.5234375   7.5625      0.         16.          4.140625    1.6484375\n",
      "   13.6953125   0.          6.4765625   0.          0.          0.\n",
      "   10.7734375  16.1171875  10.0703125   0.          8.59375     0.         17.5\n",
      "    7.28125     0.          0.          0.          0.          0.          3.6875\n",
      "    8.8828125   0.4140625   0.         12.2109375   0.          9.9296875\n",
      "    0.         13.6640625   0.          1.4921875   2.28125     0.1875\n",
      "   15.6484375   0.          0.          3.53125     4.234375    1.0234375\n",
      "    5.921875    0.          0.          0.          7.5625     11.2578125\n",
      "    0.          7.5078125   8.671875    0.          3.6328125   4.3359375\n",
      "    5.953125    5.0625      0.          0.          0.484375    0.\n",
      "    2.328125   11.4921875  14.296875    2.671875    0.         10.890625\n",
      "    0.          1.03125     0.          0.          0.         11.578125\n",
      "    0.          2.1015625   8.09375     0.          0.40625     0.4609375\n",
      "    0.          0.          0.          8.0078125   0.          0.\n",
      "    0.5390625   8.7421875   0.         15.03125     0.          0.\n",
      "    5.5703125   0.          0.          0.          0.          0.\n",
      "    8.03125    10.6875      5.3359375   0.         15.203125   11.2421875\n",
      "    0.         15.65625     0.          0.          0.          0.          0.\n",
      "    0.          0.          3.4453125   9.9765625   0.          0.          0.\n",
      "    0.          1.25        0.          2.4296875   0.          0.\n",
      "    0.2109375   1.9921875   0.          0.          0.7265625   0.\n",
      "   13.4453125   5.390625    0.          6.40625    14.4609375   0.          0.\n",
      "    9.546875    4.609375    0.703125    6.1484375   0.          0.          0.\n",
      "    0.          7.6640625  21.4765625   5.9296875  11.171875    0.078125\n",
      "    0.          4.453125    0.2734375  18.5         0.          5.6171875\n",
      "    0.          6.453125    0.          0.          4.7578125   2.9921875\n",
      "    5.890625    2.59375     0.          0.          0.         11.671875\n",
      "    0.          6.25        0.          0.          0.          0.\n",
      "   10.1171875   5.453125    4.75        7.8046875   1.2578125   5.6015625\n",
      "    0.          0.453125    1.234375    0.375       0.          0.\n",
      "   12.2890625  10.2109375   0.          0.          0.         14.4453125\n",
      "    0.          0.          0.          5.84375     0.          0.          0.\n",
      "    0.          0.7578125   0.          2.9609375   3.984375    8.3515625\n",
      "    0.          0.          0.          0.          0.         13.7890625\n",
      "   11.828125    0.          0.          9.21875     0.         11.6328125\n",
      "    5.3125      1.4140625  11.7890625  17.625       9.203125    0.          0.\n",
      "    0.1171875   2.1953125   0.          0.         18.9140625  21.875       0.\n",
      "    4.09375     0.          6.84375     1.6640625  18.4453125   5.7421875\n",
      "    0.          0.          0.         11.6953125   5.0703125   0.\n",
      "   12.5703125   3.6953125   0.          0.          5.6328125   6.53125\n",
      "    3.9453125   0.          4.59375     0.          0.5625      0.\n",
      "   10.9453125   0.          0.          0.          9.546875    0.          0.\n",
      "   16.0859375   0.          0.          3.9921875   0.          4.2578125\n",
      "    8.3984375   0.          8.2890625  10.203125    0.          0.1484375\n",
      "    0.          5.8828125   0.          4.7734375   0.          9.171875\n",
      "    0.          9.546875   13.25        2.0703125   0.          5.1640625\n",
      "    6.7578125   0.          0.          0.         14.984375    2.5234375\n",
      "    7.71875    12.1328125  10.15625    10.640625    3.5         0.\n",
      "    4.4296875   7.640625    0.          0.          6.8046875   8.1953125\n",
      "    0.          0.          0.          0.         17.3671875   0.          0.\n",
      "    2.953125    0.          0.          5.0859375   0.          0.          7.3125\n",
      "    0.          0.          0.         10.0703125   2.5078125   0.\n",
      "    4.015625    0.          6.765625    9.2109375   0.          0.          0.\n",
      "    0.          4.859375    0.          4.9765625   0.          8.265625\n",
      "    0.          8.4453125   0.          6.828125    6.6328125   0.          0.\n",
      "    0.          0.          2.21875     0.          8.296875   12.65625\n",
      "    0.          0.          2.46875     0.          0.8203125   0.\n",
      "    8.9140625   0.          5.65625     3.203125    7.2265625   0.\n",
      "    2.171875    9.3203125   0.          0.         14.578125    0.          0.\n",
      "    0.          0.          7.8359375  10.375       0.          0.\n",
      "    0.4296875   3.6953125   0.         13.8984375   6.703125    0.\n",
      "    3.0546875  12.1171875   3.0078125   0.          0.          0.\n",
      "    7.03125     3.421875   18.9140625   0.          9.453125    0.          0.\n",
      "   13.8359375  10.3203125   0.          0.          0.          0.\n",
      "    3.1640625   0.          5.3671875  10.96875    11.6328125  11.234375\n",
      "    0.          0.          0.         18.8203125   6.0390625   4.375       0.\n",
      "    1.8359375   7.8515625  11.7109375   0.          0.265625    0.          0.\n",
      "    0.          0.          0.          0.          6.875      14.78125\n",
      "    3.4921875   6.3984375  11.3203125   0.          0.          0.3125      0.\n",
      "    0.          3.140625    0.          0.          0.          0.          0.\n",
      "    1.7421875   0.          4.40625     9.4140625   4.0859375   4.15625\n",
      "    0.          1.6328125   5.3359375   0.          4.5703125   0.\n",
      "    1.34375     0.          0.          0.          0.          0.          0.\n",
      "   12.6640625   0.          0.          0.0859375   0.          0.4296875\n",
      "    0.          0.          3.0546875  20.5078125   0.          0.\n",
      "    1.2421875   0.          0.          3.2890625   0.          3.59375\n",
      "   14.2890625  11.9140625   0.          0.          9.1015625]]\n",
      "max 21.875\n",
      "min 0.0\n"
     ]
    },
    {
     "data": {
      "text/plain": [
       "False"
      ]
     },
     "execution_count": 7,
     "metadata": {},
     "output_type": "execute_result"
    }
   ],
   "source": [
    "## Testbench for a single ip layer\n",
    "net2 = {}\n",
    "net2['input_2'] = InputLayer((None, 50, 4, 4))\n",
    "net2['ip_2'] = DenseLayer(net2['input_2'], num_units=500, nonlinearity=rectify)\n",
    "weight = np.random.rand(800,500)*2-1\n",
    "#weight = np.arange(32)/32\n",
    "#weight = weight.reshape(8,4)\n",
    "#print('weight (caffe)',weight)\n",
    "\n",
    "net2['ip_2'].W.set_value(weight)\n",
    "input = np.random.rand(1, 50, 4, 4)\n",
    "#input = np.arange(8)/8\n",
    "#input = input.reshape(1,2,2,2)\n",
    "#print('input (caffe)',input)\n",
    "conv_output_test = lasagne.layers.get_output(net2['ip_2'], floatX(input), deterministic=True).eval()\n",
    "print(conv_output_test)\n",
    "print('max', np.amax(conv_output_test))\n",
    "print('min', np.amin(conv_output_test))\n",
    "print('##############################')\n",
    "weight = np.transpose(weight)\n",
    "weight = weight.reshape(500, 50, 4, 4)\n",
    "#print('weight (fpga)',weight)\n",
    "#weight = weight[...,::-1,::-1]\n",
    "FPGALoadW(weight, 3, 4, 1, 0, flip_filters=False)\n",
    "#print('input (fpga)',input)\n",
    "FPGA_output = FPGAQuickTest(input, 1, 1, 500)\n",
    "print(FPGA_output.reshape(1,500))\n",
    "print('max', np.amax(FPGA_output))\n",
    "print('min', np.amin(FPGA_output))\n",
    "np.allclose(conv_output_test, FPGA_output)"
   ]
  },
  {
   "cell_type": "markdown",
   "metadata": {},
   "source": [
    "### Make predictions on the test data"
   ]
  },
  {
   "cell_type": "code",
   "execution_count": 14,
   "metadata": {
    "collapsed": false
   },
   "outputs": [
    {
     "name": "stdout",
     "output_type": "stream",
     "text": [
      "Elapsed Test Time:  81.97850518999999\n"
     ]
    }
   ],
   "source": [
    "start_time = time.process_time()\n",
    "prob = np.array(lasagne.layers.get_output(net['prob'], floatX(data_zeromean[0:500]), deterministic=True).eval())\n",
    "predicted = np.argmax(prob, 1)\n",
    "end_time = time.process_time()\n",
    "print(\"Elapsed Test Time: \", end_time-start_time)"
   ]
  },
  {
   "cell_type": "markdown",
   "metadata": {},
   "source": [
    "### Check our accuracy\n",
    "We expect around 75%"
   ]
  },
  {
   "cell_type": "code",
   "execution_count": 15,
   "metadata": {
    "collapsed": false
   },
   "outputs": [
    {
     "name": "stdout",
     "output_type": "stream",
     "text": [
      "[3 8 8 0 6 6 0 6 3 1 4 9 5 7 9 8 5 5 8 6 7 0 4 9 4 2 4 0 9 6 6 5 2 5 9 1 4\n",
      " 9 9 5 4 6 3 6 0 9 3 3 7 6 9 8 6 3 8 8 7 5 5 3 7 3 6 9 6 2 1 2 3 7 2 6 8 8\n",
      " 0 2 9 3 2 8 8 9 1 7 2 7 2 8 8 9 0 6 8 6 4 6 6 0 0 7 5 5 6 3 1 1 2 6 8 7 4\n",
      " 0 2 2 1 3 0 4 2 5 8 3 1 2 8 2 9 3 3 2 4 1 8 9 1 2 9 7 2 8 6 5 6 3 8 3 6 5\n",
      " 5 3 8 9 6 0 0 5 2 9 3 4 2 1 5 6 0 2 8 4 7 0 9 7 9 8 9 9 3 7 5 0 0 5 2 2 0\n",
      " 8 6 3 3 8 5 8 0 1 7 2 8 8 7 8 5 9 8 7 1 3 0 5 7 9 3 0 5 9 8 0 7 9 0 4 4 3\n",
      " 9 5 3 1 3 2 3 6 5 1 5 1 8 0 4 7 3 5 1 1 1 9 0 2 1 8 2 0 7 3 9 9 2 0 6 0 8\n",
      " 9 8 1 5 3 0 8 8 4 7 0 2 3 6 3 8 2 0 2 4 3 9 0 6 1 9 9 1 0 7 9 1 2 6 1 3 2\n",
      " 6 0 0 6 6 2 5 2 6 1 9 2 9 4 8 6 0 0 3 0 7 7 5 5 3 5 2 3 4 5 7 5 4 6 1 9 6\n",
      " 6 6 9 3 8 0 7 4 6 0 7 8 5 7 6 8 9 9 1 8 2 6 3 2 2 8 4 9 5 8 1 9 2 2 0 0 1\n",
      " 2 7 9 4 2 7 9 7 8 6 6 9 0 0 2 8 7 2 5 5 1 2 6 2 9 6 4 3 0 1 9 1 7 8 8 6 0\n",
      " 1 8 2 7 8 5 6 1 9 3 7 7 7 4 7 8 0 2 9 3 3 6 6 4 5 3 3 3 7 3 2 5 9 1 2 9 9\n",
      " 3 7 5 0 2 0 6 9 7 3 9 4 4 3 3 9 5 6 1 2 9 4 4 3 3 8 3 7 8 0 5 7 6 0 5 4 8\n",
      " 6 8 5 5 0 9 9 5 0 1 0 8 1 1 8 0 5 2 0]\n",
      "[3 8 8 0 6 6 1 6 3 1 0 9 5 7 9 8 5 7 8 6 7 0 4 9 5 2 4 0 9 6 6 5 4 5 9 2 4\n",
      " 1 9 5 4 6 5 6 0 9 3 9 7 6 9 8 0 3 8 8 7 7 4 6 7 3 6 3 6 2 1 2 3 7 2 6 8 8\n",
      " 0 2 9 3 3 8 8 1 1 7 2 5 2 7 8 9 0 3 8 6 4 6 6 0 0 7 4 5 6 3 1 1 3 6 8 7 4\n",
      " 0 6 2 1 3 0 4 2 7 8 3 1 2 8 0 8 3 5 2 4 1 8 9 1 2 9 7 2 9 6 5 6 3 8 7 6 2\n",
      " 5 2 8 9 6 0 0 5 2 9 5 4 2 1 6 6 8 4 8 4 5 0 9 9 9 8 9 9 3 7 5 0 0 5 2 2 3\n",
      " 8 6 3 4 0 5 8 0 1 7 2 8 8 7 8 5 1 8 7 1 3 0 5 7 9 7 4 5 9 8 0 7 9 8 2 7 6\n",
      " 9 4 3 9 6 4 7 6 5 1 5 8 8 0 4 0 5 5 1 1 8 9 0 3 1 9 2 2 5 3 9 9 4 0 3 0 0\n",
      " 9 8 1 5 7 0 8 2 4 7 0 2 3 6 3 8 5 0 3 4 3 9 0 6 1 0 9 1 0 7 9 1 2 6 9 3 4\n",
      " 6 0 0 6 6 6 3 2 6 1 8 2 1 6 8 6 8 0 4 0 7 7 5 5 3 5 2 3 4 1 7 5 4 6 1 9 3\n",
      " 6 6 9 3 8 0 7 2 6 2 5 8 5 4 6 8 9 9 1 0 2 2 7 3 2 8 0 9 5 8 1 9 4 1 3 8 1\n",
      " 4 7 9 4 2 7 0 7 0 6 6 9 0 9 2 8 7 2 2 5 1 2 6 2 9 6 2 3 0 3 9 8 7 8 8 4 0\n",
      " 1 8 2 7 9 3 6 1 9 0 7 3 7 4 5 0 0 2 9 3 4 0 6 2 5 3 7 3 7 2 5 3 1 1 4 9 9\n",
      " 5 7 5 0 2 2 2 9 7 3 9 4 3 5 4 6 5 6 1 4 3 4 4 3 7 8 3 7 8 0 5 7 6 0 5 4 8\n",
      " 6 8 5 5 9 9 9 5 0 1 0 8 1 1 8 0 2 2 0]\n",
      "0.746\n"
     ]
    }
   ],
   "source": [
    "accuracy = np.mean(predicted == data['labels'][0:500])\n",
    "print(predicted)\n",
    "print(data['labels'][0:500])\n",
    "print(accuracy)"
   ]
  },
  {
   "cell_type": "code",
   "execution_count": 16,
   "metadata": {
    "collapsed": false
   },
   "outputs": [
    {
     "name": "stdout",
     "output_type": "stream",
     "text": [
      "[199, 450, 600, 937, 1571, 1576, 1597, 1625, 1651, 1783, 3246, 3326, 3527, 4015, 4664, 4679, 4729, 4770, 4922]\n"
     ]
    },
    {
     "data": {
      "image/png": "[encoded data removed]",
      "text/plain": [
       "<matplotlib.figure.Figure at 0x2746de50>"
      ]
     },
     "metadata": {},
     "output_type": "display_data"
    }
   ],
   "source": [
    "wrong = predicted != test_label[0][5000:10000]\n",
    "wrong_ind = [i for i,x in enumerate(wrong) if x == 1]\n",
    "print(wrong_ind)\n",
    "\n",
    "def make_image(X):\n",
    "    im = np.swapaxes(X.T, 0, 1)\n",
    "    im = im - im.min()\n",
    "    im = im * 1.0 / im.max()\n",
    "    return im\n",
    "\n",
    "plt.figure(figsize=(16, 5))\n",
    "for i in range(0, 10):\n",
    "    plt.subplot(1, 10, i+1)\n",
    "    plt.imshow(make_image(test_data[wrong_ind[i]+5000][0]), interpolation='nearest', cmap=plt.get_cmap('gray'))\n",
    "    true = test_label[0][wrong_ind[i]+5000]\n",
    "    pred = predicted[wrong_ind[i]]\n",
    "    color = 'green' if true == pred else 'red'\n",
    "    plt.text(0, 0, true, color='black', bbox=dict(facecolor='white', alpha=1))\n",
    "    plt.text(0, 32, pred, color=color, bbox=dict(facecolor='white', alpha=1))\n",
    "\n",
    "    plt.axis('off')"
   ]
  },
  {
   "cell_type": "markdown",
   "metadata": {},
   "source": [
    "### Double check\n",
    "Let's compare predictions against Caffe"
   ]
  },
  {
   "cell_type": "code",
   "execution_count": 31,
   "metadata": {
    "collapsed": false
   },
   "outputs": [],
   "source": [
    "net_caffe.blobs['data'].reshape(500, 3, 32, 32)\n",
    "net_caffe.blobs['data'].data[:] = data['raw'][0:500]\n",
    "prob_caffe = net_caffe.forward()['prob']#[:,:,0,0]"
   ]
  },
  {
   "cell_type": "code",
   "execution_count": 32,
   "metadata": {
    "collapsed": false
   },
   "outputs": [
    {
     "data": {
      "text/plain": [
       "True"
      ]
     },
     "execution_count": 32,
     "metadata": {},
     "output_type": "execute_result"
    }
   ],
   "source": [
    "np.allclose(prob, prob_caffe)\n",
    "# print(prob)\n",
    "# print(prob_caffe)"
   ]
  },
  {
   "cell_type": "markdown",
   "metadata": {},
   "source": [
    "### Graph some images and predictions"
   ]
  },
  {
   "cell_type": "code",
   "execution_count": 26,
   "metadata": {
    "collapsed": false
   },
   "outputs": [
    {
     "data": {
      "image/png": "[encoded data removed]",
      "text/plain": [
       "<matplotlib.figure.Figure at 0x27815670>"
      ]
     },
     "metadata": {},
     "output_type": "display_data"
    }
   ],
   "source": [
    "def make_image(X):\n",
    "    im = np.swapaxes(X.T, 0, 1)\n",
    "    im = im - im.min()\n",
    "    im = im * 1.0 / im.max()\n",
    "    return im\n",
    "\n",
    "plt.figure(figsize=(16, 5))\n",
    "for i in range(0, 10):\n",
    "    plt.subplot(1, 10, i+1)\n",
    "    plt.imshow(make_image(test_data[i][0]), interpolation='nearest', cmap=plt.get_cmap('gray'))\n",
    "    true = test_label[0][i]\n",
    "    pred = FPGA_predicted[i]\n",
    "    color = 'green' if true == pred else 'red'\n",
    "    plt.text(0, 0, true, color='black', bbox=dict(facecolor='white', alpha=1))\n",
    "    plt.text(0, 32, pred, color=color, bbox=dict(facecolor='white', alpha=1))\n",
    "\n",
    "    plt.axis('off')"
   ]
  },
  {
   "cell_type": "markdown",
   "metadata": {
    "collapsed": true
   },
   "source": [
    "### Save our model\n",
    "Let's save the weights in pickle format, so we don't need Caffe next time"
   ]
  },
  {
   "cell_type": "code",
   "execution_count": 15,
   "metadata": {
    "collapsed": true
   },
   "outputs": [],
   "source": [
    "import pickle\n",
    "\n",
    "values = lasagne.layers.get_all_param_values(net['output'])\n",
    "pickle.dump(values, open('model.pkl', 'w'))"
   ]
  }
 ],
 "metadata": {
  "kernelspec": {
   "display_name": "Python 3",
   "language": "python",
   "name": "python3"
  },
  "language_info": {
   "codemirror_mode": {
    "name": "ipython",
    "version": 3
   },
   "file_extension": ".py",
   "mimetype": "text/x-python",
   "name": "python",
   "nbconvert_exporter": "python",
   "pygments_lexer": "ipython3",
   "version": "3.4.3+"
  }
 },
 "nbformat": 4,
 "nbformat_minor": 0
}
