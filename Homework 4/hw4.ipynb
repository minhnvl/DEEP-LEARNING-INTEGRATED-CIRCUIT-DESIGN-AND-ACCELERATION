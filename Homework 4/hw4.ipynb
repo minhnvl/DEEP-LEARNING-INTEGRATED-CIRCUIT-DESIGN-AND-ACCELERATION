{
 "cells": [
  {
   "cell_type": "code",
   "execution_count": 1,
   "metadata": {},
   "outputs": [
    {
     "data": {
      "application/javascript": [
       "\n",
       "require(['notebook/js/codecell'], function(codecell) {\n",
       "  codecell.CodeCell.options_default.highlight_modes[\n",
       "      'magic_text/x-csrc'] = {'reg':[/^%%microblaze/]};\n",
       "  Jupyter.notebook.events.one('kernel_ready.Kernel', function(){\n",
       "      Jupyter.notebook.get_cells().map(function(cell){\n",
       "          if (cell.cell_type == 'code'){ cell.auto_highlight(); } }) ;\n",
       "  });\n",
       "});\n"
      ]
     },
     "metadata": {},
     "output_type": "display_data"
    },
    {
     "name": "stderr",
     "output_type": "stream",
     "text": [
      "/usr/local/lib/python3.6/dist-packages/pynq/overlay.py:299: UserWarning: Users will not get PARAMETERS / REGISTERS information through TCL files. HWH file is recommended.\n",
      "  warnings.warn(message, UserWarning)\n"
     ]
    }
   ],
   "source": [
    "from pynq import Overlay\n",
    "design_cdma = Overlay(\"./hw4.bit\")"
   ]
  },
  {
   "cell_type": "code",
   "execution_count": 2,
   "metadata": {},
   "outputs": [
    {
     "data": {
      "text/plain": [
       "{'axi_cdma_0': {'addr_range': 65536,\n",
       "  'driver': pynq.overlay.DefaultIP,\n",
       "  'fullpath': 'axi_cdma_0',\n",
       "  'gpio': {},\n",
       "  'interrupts': {},\n",
       "  'mem_id': 'SEG_axi_cdma_0_Reg',\n",
       "  'phys_addr': 2116026368,\n",
       "  'state': None,\n",
       "  'type': 'xilinx.com:ip:axi_cdma:4.1'}}"
      ]
     },
     "execution_count": 2,
     "metadata": {},
     "output_type": "execute_result"
    }
   ],
   "source": [
    "design_cdma.ip_dict"
   ]
  },
  {
   "cell_type": "code",
   "execution_count": 3,
   "metadata": {},
   "outputs": [
    {
     "name": "stdout",
     "output_type": "stream",
     "text": [
      "Physical address of cdma: 0x7e200000\n"
     ]
    }
   ],
   "source": [
    "address_cdma = design_cdma.ip_dict['axi_cdma_0']['phys_addr']\n",
    "print(\"Physical address of cdma: 0x\" + format(address_cdma, '02x'))"
   ]
  },
  {
   "cell_type": "code",
   "execution_count": 4,
   "metadata": {},
   "outputs": [],
   "source": [
    "address_zynq = 0x30000000"
   ]
  },
  {
   "cell_type": "code",
   "execution_count": 5,
   "metadata": {},
   "outputs": [],
   "source": [
    "from pynq import MMIO\n",
    "cdma = MMIO(address_cdma, 0x30)\n",
    "zynq = MMIO(address_zynq, 0x30)"
   ]
  },
  {
   "cell_type": "code",
   "execution_count": 6,
   "metadata": {},
   "outputs": [],
   "source": [
    "#Step1: Put two numbers into the system's memory (at address + 0 and address + 4)\n",
    "a = 60 #can be edited\n",
    "b = 80 #can be edited\n",
    "zynq.write(0x0, a)\n",
    "zynq.write(0x4, b)\n",
    "\n",
    "#Step2: Set CDMA to move data from ZYNQ to block memory\n",
    "cdma.write(0x0, 0x04) #CDMACR (CDMA_control)\n",
    "cdma.write(0x18, address_zynq) #SA (Source Address) \n",
    "cdma.write(0x20, 0xc0000000) #DA (Destination Address) \n",
    "cdma.write(0x28, 0x8) #BTT (the number of Bytes to be transmitted)\n",
    "\n",
    "#Step3: Set CDMA to move the data back from the block memory to ZYNQ\n",
    "cdma.write(0x0, 0x04) #CDMACR\n",
    "cdma.write(0x18, 0xc0000000) #SA\n",
    "cdma.write(0x20, address_zynq) #DA\n",
    "cdma.write(0x28, 0x10) #BTT"
   ]
  },
  {
   "cell_type": "code",
   "execution_count": 7,
   "metadata": {},
   "outputs": [
    {
     "name": "stdout",
     "output_type": "stream",
     "text": [
      "ans of 60*80 = 4800\n"
     ]
    }
   ],
   "source": [
    "print(f\"ans of {a}*{b} = {zynq.read(0x000c)}\") #Read the data of ZYNQ address + 0x0C and get the answer"
   ]
  },
  {
   "cell_type": "code",
   "execution_count": null,
   "metadata": {},
   "outputs": [],
   "source": []
  },
  {
   "cell_type": "code",
   "execution_count": null,
   "metadata": {},
   "outputs": [],
   "source": []
  }
 ],
 "metadata": {
  "kernelspec": {
   "display_name": "Python 3",
   "language": "python",
   "name": "python3"
  },
  "language_info": {
   "codemirror_mode": {
    "name": "ipython",
    "version": 3
   },
   "file_extension": ".py",
   "mimetype": "text/x-python",
   "name": "python",
   "nbconvert_exporter": "python",
   "pygments_lexer": "ipython3",
   "version": "3.6.5"
  },
  "widgets": {
   "application/vnd.jupyter.widget-state+json": {
    "state": {},
    "version_major": 2,
    "version_minor": 0
   }
  }
 },
 "nbformat": 4,
 "nbformat_minor": 2
}
